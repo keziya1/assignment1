{
 "cells": [
  {
   "cell_type": "markdown",
   "id": "ac868217-8531-4f84-a567-54bd77f0a4f4",
   "metadata": {},
   "source": [
    "While Loop practicals:\n",
    "\n",
    "1. Print Numbers from 1 to 10\n",
    "\n",
    "Expected Output: 1 2 3 ... 10\n"
   ]
  },
  {
   "cell_type": "code",
   "execution_count": 3,
   "id": "00f4a4b2-1e57-48d4-ba44-3e71b5afed51",
   "metadata": {},
   "outputs": [
    {
     "name": "stdout",
     "output_type": "stream",
     "text": [
      "1\n",
      "2\n",
      "3\n",
      "4\n",
      "5\n",
      "6\n",
      "7\n",
      "8\n",
      "9\n",
      "10\n"
     ]
    }
   ],
   "source": [
    "i=1\n",
    "while i<=10:\n",
    "    print(i)\n",
    "    i+=1"
   ]
  },
  {
   "cell_type": "markdown",
   "id": "083beaf0-f655-45a6-9283-a9186efcf6b1",
   "metadata": {},
   "source": [
    "2. Sum of Numbers from 1 to N\n",
    "\n",
    "Input: 5\n",
    "Expected Output: 15 (1+2+3+4+5)\n"
   ]
  },
  {
   "cell_type": "code",
   "execution_count": 3,
   "id": "8011eadc-151d-4a54-96d5-294ea0c288c4",
   "metadata": {},
   "outputs": [
    {
     "name": "stdin",
     "output_type": "stream",
     "text": [
      " 5\n"
     ]
    },
    {
     "name": "stdout",
     "output_type": "stream",
     "text": [
      "1\n",
      "2\n",
      "3\n",
      "4\n",
      "5\n",
      "15\n"
     ]
    }
   ],
   "source": [
    "n=int(input())\n",
    "i=1\n",
    "sum=0\n",
    "while i<=n:\n",
    "    print(i)\n",
    "    sum+=i\n",
    "    i+=1\n",
    "print(sum)"
   ]
  },
  {
   "cell_type": "markdown",
   "id": "c1a5285b-3bce-4dd3-a95a-0ee580e743e1",
   "metadata": {},
   "source": [
    "3. Print Even Numbers up to N\n",
    "Input: 10\n",
    "Expected Output: 2 4 6 8 10\n"
   ]
  },
  {
   "cell_type": "code",
   "execution_count": 4,
   "id": "c994101a-fb34-48f4-9418-025abf76dc45",
   "metadata": {},
   "outputs": [
    {
     "name": "stdin",
     "output_type": "stream",
     "text": [
      " 10\n"
     ]
    },
    {
     "name": "stdout",
     "output_type": "stream",
     "text": [
      "2 4 6 8 10 "
     ]
    }
   ],
   "source": [
    "n=int(input())\n",
    "i=1\n",
    "while i <= n:\n",
    "    if i % 2 == 0:\n",
    "        print(i, end=' ')\n",
    "    i += 1\n"
   ]
  },
  {
   "cell_type": "code",
   "execution_count": 5,
   "id": "b378085f-f103-428a-a818-c3a91219336b",
   "metadata": {},
   "outputs": [
    {
     "name": "stdin",
     "output_type": "stream",
     "text": [
      " 10\n"
     ]
    },
    {
     "name": "stdout",
     "output_type": "stream",
     "text": [
      "2 4 6 8 10 "
     ]
    }
   ],
   "source": [
    "n=int(input())\n",
    "i = 2\n",
    "\n",
    "while i <= n:\n",
    "    print(i, end=' ')\n",
    "    i +=2"
   ]
  },
  {
   "cell_type": "markdown",
   "id": "797b1846-7d99-4dec-b042-a2fed6bf1b30",
   "metadata": {},
   "source": [
    "4. Count Digits in a Number\n",
    "\n",
    "Input: 12345\n",
    "Expected Output: 5\n",
    "\n"
   ]
  },
  {
   "cell_type": "code",
   "execution_count": 1,
   "id": "431d5abf-658a-46d1-8976-fa7d09fbbe7a",
   "metadata": {},
   "outputs": [
    {
     "name": "stdin",
     "output_type": "stream",
     "text": [
      " 12345\n"
     ]
    },
    {
     "name": "stdout",
     "output_type": "stream",
     "text": [
      "5\n"
     ]
    }
   ],
   "source": [
    "n=int(input())\n",
    "count=0\n",
    "\n",
    "while n>0:\n",
    "    n=n//10\n",
    "    count+=1\n",
    "print(count)"
   ]
  },
  {
   "cell_type": "markdown",
   "id": "dd7a2054-8510-4b78-a705-594891b7d4a1",
   "metadata": {},
   "source": [
    "5.Reverse a Number\n",
    "Input: 1234\n",
    "Output: 4321\n"
   ]
  },
  {
   "cell_type": "code",
   "execution_count": 3,
   "id": "8af57e33-3ddc-4619-98fd-f44440dda2ad",
   "metadata": {},
   "outputs": [
    {
     "name": "stdin",
     "output_type": "stream",
     "text": [
      " 1234\n"
     ]
    },
    {
     "name": "stdout",
     "output_type": "stream",
     "text": [
      "4321\n"
     ]
    }
   ],
   "source": [
    "n=int(input())\n",
    "rev = 0\n",
    "\n",
    "while n > 0:\n",
    "    r = n % 10       \n",
    "    rev = rev * 10 + r  \n",
    "    n = n // 10      \n",
    "\n",
    "print(rev)\n",
    "\n",
    "    \n",
    "    "
   ]
  },
  {
   "cell_type": "markdown",
   "id": "3ccf26e3-34d2-4b9a-88f6-24062cf84492",
   "metadata": {},
   "source": [
    "6. Check if a Number is a Palindrome\n",
    "Input: 121\n",
    "Output: True"
   ]
  },
  {
   "cell_type": "code",
   "execution_count": 8,
   "id": "2bc6ba64-c353-427e-8409-3bee2e78a00e",
   "metadata": {},
   "outputs": [
    {
     "name": "stdin",
     "output_type": "stream",
     "text": [
      " 121\n"
     ]
    },
    {
     "name": "stdout",
     "output_type": "stream",
     "text": [
      "True\n"
     ]
    }
   ],
   "source": [
    "n = int(input())\n",
    "original = n\n",
    "rev = 0\n",
    "\n",
    "while n > 0:\n",
    "    r = n % 10\n",
    "    rev = rev * 10 + r\n",
    "    n = n // 10\n",
    "\n",
    "if original == rev:\n",
    "    print(\"True\")\n",
    "else:\n",
    "    print(\"Not a Palindrome\")\n"
   ]
  },
  {
   "cell_type": "markdown",
   "id": "f3914a55-a462-4684-b588-58f6fba68129",
   "metadata": {},
   "source": [
    "Funcitons:\n",
    "\n",
    "Function to Add Two Numbers\n",
    "\n",
    "1. def add(a, b):\n",
    "    # Your code here\n"
   ]
  },
  {
   "cell_type": "code",
   "execution_count": 9,
   "id": "bcc9694d-5dc7-4a5f-8574-01a331e58b5a",
   "metadata": {},
   "outputs": [],
   "source": [
    "def add(a,b):\n",
    "    return a+b"
   ]
  },
  {
   "cell_type": "code",
   "execution_count": 10,
   "id": "836798b3-35f4-4923-abfb-2b5a550c5497",
   "metadata": {},
   "outputs": [
    {
     "data": {
      "text/plain": [
       "30"
      ]
     },
     "execution_count": 10,
     "metadata": {},
     "output_type": "execute_result"
    }
   ],
   "source": [
    "add(10,20)"
   ]
  },
  {
   "cell_type": "markdown",
   "id": "c51af113-f2ec-407f-85ac-6f9ab2f0cc4b",
   "metadata": {},
   "source": [
    "Function to Find Maximum of Three Numbers\n",
    "\n",
    "2. def max_of_three(a, b, c):\n",
    "    # Your code here\n",
    "Function to Check Prime Number\n"
   ]
  },
  {
   "cell_type": "code",
   "execution_count": 11,
   "id": "09258420-ce18-4aa1-a9d0-b966379927a1",
   "metadata": {},
   "outputs": [],
   "source": [
    "def max_of_three(a,b,c):\n",
    "    return max(a,b,c)"
   ]
  },
  {
   "cell_type": "code",
   "execution_count": 12,
   "id": "b6bf1f4d-37d9-4e58-ba6d-1ec60078bc45",
   "metadata": {},
   "outputs": [
    {
     "data": {
      "text/plain": [
       "25"
      ]
     },
     "execution_count": 12,
     "metadata": {},
     "output_type": "execute_result"
    }
   ],
   "source": [
    "max_of_three(10,20,25)"
   ]
  },
  {
   "cell_type": "markdown",
   "id": "49144140-9aa2-4d38-9894-dcddeab3f0b1",
   "metadata": {},
   "source": [
    "\n",
    "3. def is_prime(n):\n",
    "    # Returns True if prime, else False\n"
   ]
  },
  {
   "cell_type": "code",
   "execution_count": 13,
   "id": "7eb54529-7775-48c8-af84-1e632d6cf701",
   "metadata": {},
   "outputs": [],
   "source": [
    "def is_prime(n):\n",
    "    if n%2==1:\n",
    "        return True\n",
    "    else:\n",
    "        return False"
   ]
  },
  {
   "cell_type": "code",
   "execution_count": 16,
   "id": "e050fd4b-9f90-478d-8c1b-c52fc22ccb67",
   "metadata": {},
   "outputs": [
    {
     "data": {
      "text/plain": [
       "True"
      ]
     },
     "execution_count": 16,
     "metadata": {},
     "output_type": "execute_result"
    }
   ],
   "source": [
    "is_prime(7)"
   ]
  },
  {
   "cell_type": "markdown",
   "id": "4a40e7bb-9d7d-4be8-a172-dfac004e1f27",
   "metadata": {},
   "source": [
    "4. Function to Calculate Factorial\n",
    "\n",
    "def factorial(n):\n",
    "    # Your code here using while loop\n",
    "\n"
   ]
  },
  {
   "cell_type": "code",
   "execution_count": 17,
   "id": "1656c2bd-c048-484a-8673-11be5181de86",
   "metadata": {},
   "outputs": [],
   "source": [
    "def factorial(n):\n",
    "    f = 1\n",
    "    while n > 0:\n",
    "        f = f * n\n",
    "        n = n - 1\n",
    "    return f\n"
   ]
  },
  {
   "cell_type": "code",
   "execution_count": 19,
   "id": "a6ed6406-c58a-4ae6-aab3-e19b9b03c70e",
   "metadata": {},
   "outputs": [
    {
     "data": {
      "text/plain": [
       "120"
      ]
     },
     "execution_count": 19,
     "metadata": {},
     "output_type": "execute_result"
    }
   ],
   "source": [
    "factorial(5)\n"
   ]
  },
  {
   "cell_type": "markdown",
   "id": "4b719078-3755-4fcd-bd7a-ccc00302973e",
   "metadata": {},
   "source": [
    "5.Function to Print Fibonacci Series up to N terms\n",
    "\n",
    "def fibonacci(n):\n",
    "    # Your code here using while loop\n"
   ]
  },
  {
   "cell_type": "code",
   "execution_count": 20,
   "id": "00f877ff-9824-4ae7-96a6-44c13a3066ee",
   "metadata": {},
   "outputs": [],
   "source": [
    "def fibonacci(n):\n",
    "    a, b = 0, 1\n",
    "    count = 0\n",
    "    while count < n:\n",
    "        print(a, end=' ')\n",
    "        a, b = b, a + b\n",
    "        count += 1\n",
    "\n",
    "        "
   ]
  },
  {
   "cell_type": "code",
   "execution_count": 21,
   "id": "8ffdaa50-d45b-4142-b866-d232068b9b0d",
   "metadata": {},
   "outputs": [
    {
     "name": "stdout",
     "output_type": "stream",
     "text": [
      "0 1 1 2 3 5 8 "
     ]
    }
   ],
   "source": [
    "fibonacci(7)"
   ]
  },
  {
   "cell_type": "markdown",
   "id": "881ab609-4c91-4612-aae4-56bd98dbb02a",
   "metadata": {},
   "source": [
    "\n",
    "6.Function to Count Vowels in a String\n",
    "def count_vowels(s):\n",
    "    # Your code here\n"
   ]
  },
  {
   "cell_type": "code",
   "execution_count": null,
   "id": "c4bb5e64-a06c-44ae-8a4a-552aadf15afe",
   "metadata": {},
   "outputs": [],
   "source": [
    "def countvowels(s):\n",
    "    s=\"this is keziya\"\n",
    "    vowels=\"aeiou\"\n",
    "    "
   ]
  }
 ],
 "metadata": {
  "kernelspec": {
   "display_name": "Python 3 (ipykernel)",
   "language": "python",
   "name": "python3"
  },
  "language_info": {
   "codemirror_mode": {
    "name": "ipython",
    "version": 3
   },
   "file_extension": ".py",
   "mimetype": "text/x-python",
   "name": "python",
   "nbconvert_exporter": "python",
   "pygments_lexer": "ipython3",
   "version": "3.13.5"
  }
 },
 "nbformat": 4,
 "nbformat_minor": 5
}
