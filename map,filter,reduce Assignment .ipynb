{
 "cells": [
  {
   "cell_type": "code",
   "execution_count": 1,
   "id": "f263b16d-4fce-4bb1-a129-c92373dff9f5",
   "metadata": {},
   "outputs": [],
   "source": [
    "#1. Convert a list of strings to uppercase\n",
    "\n",
    "#words = ['python', 'is', 'awesome']\n",
    "#Output: ['PYTHON', 'IS', 'AWES\n",
    "words = ['python', 'is', 'awesome']\n",
    "uppercase=list(map(str.upper,words))"
   ]
  },
  {
   "cell_type": "code",
   "execution_count": 2,
   "id": "37aaabe8-301f-456a-953f-7aa734042d95",
   "metadata": {},
   "outputs": [
    {
     "data": {
      "text/plain": [
       "['PYTHON', 'IS', 'AWESOME']"
      ]
     },
     "execution_count": 2,
     "metadata": {},
     "output_type": "execute_result"
    }
   ],
   "source": [
    "uppercase"
   ]
  },
  {
   "cell_type": "code",
   "execution_count": 4,
   "id": "40c47856-3c41-470a-abca-021aa78ca7f9",
   "metadata": {},
   "outputs": [],
   "source": [
    "#2. Square all numbers in a list\n",
    "\n",
    "#numbers = [1, 2, 3, 4]\n",
    "#utput: [1, 4, 9, 16]\n",
    "numbers = [1, 2, 3, 4]\n",
    "square=list(map(lambda x:x**2,numbers))"
   ]
  },
  {
   "cell_type": "code",
   "execution_count": 5,
   "id": "63f9c50a-4c8c-4bed-8fff-929621b8a758",
   "metadata": {},
   "outputs": [
    {
     "data": {
      "text/plain": [
       "[1, 4, 9, 16]"
      ]
     },
     "execution_count": 5,
     "metadata": {},
     "output_type": "execute_result"
    }
   ],
   "source": [
    "square"
   ]
  },
  {
   "cell_type": "code",
   "execution_count": 20,
   "id": "0e98b517-5783-4e03-ad8e-60d684263cf7",
   "metadata": {},
   "outputs": [],
   "source": [
    "#3. Convert a list of integers to strings\n",
    "\n",
    "#nums = [1, 2, 3]\n",
    "#Output: ['1', '2', '3']\n",
    "nums = [1, 2, 3]\n",
    "string = list(map(str, nums))\n"
   ]
  },
  {
   "cell_type": "code",
   "execution_count": 21,
   "id": "5171fd76-cdb4-4c1c-83a3-5c0b66246b1c",
   "metadata": {},
   "outputs": [
    {
     "data": {
      "text/plain": [
       "['1', '2', '3']"
      ]
     },
     "execution_count": 21,
     "metadata": {},
     "output_type": "execute_result"
    }
   ],
   "source": [
    "string"
   ]
  },
  {
   "cell_type": "code",
   "execution_count": 25,
   "id": "bff0ca7a-b1d7-4d4a-9443-d25579df69f2",
   "metadata": {},
   "outputs": [],
   "source": [
    "#4. Add 5 to each element in a list\n",
    "#marks = [50, 60, 70]\n",
    "#Output: [55, 65, 75]\n",
    "marks=[50,60,70]\n",
    "add=list(map(lambda x: x+5,marks))\n"
   ]
  },
  {
   "cell_type": "code",
   "execution_count": 26,
   "id": "c34bc889-c8f3-452e-9038-1fcbb5d24fde",
   "metadata": {},
   "outputs": [
    {
     "data": {
      "text/plain": [
       "[55, 65, 75]"
      ]
     },
     "execution_count": 26,
     "metadata": {},
     "output_type": "execute_result"
    }
   ],
   "source": [
    "add"
   ]
  },
  {
   "cell_type": "markdown",
   "id": "d78104c5-6987-4f95-a13f-a26492d68f74",
   "metadata": {},
   "source": [
    "#5. Get lengths of all strings in a list\n",
    "\n",
    "names = ['apple', 'banana', 'kiwi']\n",
    "Output: [5, 6, 4]\n"
   ]
  },
  {
   "cell_type": "code",
   "execution_count": 33,
   "id": "c8099ed4-3716-466f-a247-a569533d32e0",
   "metadata": {},
   "outputs": [],
   "source": [
    "names = ['apple', 'banana', 'kiwi']\n",
    "fruits=list(map(len,names))"
   ]
  },
  {
   "cell_type": "raw",
   "id": "9b08ff73-10f7-4ba1-b707-417d9bea40e9",
   "metadata": {},
   "source": [
    "fruits"
   ]
  },
  {
   "cell_type": "code",
   "execution_count": 34,
   "id": "89408f49-9e32-4036-a063-cae3482667f0",
   "metadata": {},
   "outputs": [
    {
     "data": {
      "text/plain": [
       "[5, 6, 4]"
      ]
     },
     "execution_count": 34,
     "metadata": {},
     "output_type": "execute_result"
    }
   ],
   "source": [
    "fruits"
   ]
  },
  {
   "cell_type": "markdown",
   "id": "de018ec6-a2f7-4822-83be-eb541bcdb32a",
   "metadata": {},
   "source": [
    "1. Filter out even numbers\n",
    "\n",
    "nums = [1, 2, 3, 4, 5, 6]\n",
    "Output: [2, 4, 6]"
   ]
  },
  {
   "cell_type": "code",
   "execution_count": 38,
   "id": "ac03c9b4-110b-4b36-b06d-9b1cc0330a38",
   "metadata": {},
   "outputs": [],
   "source": [
    "nums = [1, 2, 3, 4, 5, 6] \n",
    "even=list(filter(lambda x:x%2==0,nums))"
   ]
  },
  {
   "cell_type": "code",
   "execution_count": 39,
   "id": "dd75f2f1-fdd6-4ff6-9d6b-2ec2eb5d3532",
   "metadata": {},
   "outputs": [
    {
     "data": {
      "text/plain": [
       "[2, 4, 6]"
      ]
     },
     "execution_count": 39,
     "metadata": {},
     "output_type": "execute_result"
    }
   ],
   "source": [
    "even"
   ]
  },
  {
   "cell_type": "markdown",
   "id": "f3500bb4-2891-456a-a1e4-285f248785d7",
   "metadata": {},
   "source": [
    "2. Keep only strings with more than 3 characters\n",
    "\n",
    "words = ['hi', 'hello', 'hey', 'sun']\n",
    "Output: ['hello']"
   ]
  },
  {
   "cell_type": "code",
   "execution_count": 45,
   "id": "b1f3c51c-4984-4c07-827a-3db1132b1682",
   "metadata": {},
   "outputs": [],
   "source": [
    "words = ['hi', 'hello', 'hey', 'sun']\n",
    "greet=list(filter(lambda x: len(x) > 3,words))"
   ]
  },
  {
   "cell_type": "code",
   "execution_count": 46,
   "id": "94d68831-88ed-4d44-9924-1da47395b4b5",
   "metadata": {},
   "outputs": [
    {
     "data": {
      "text/plain": [
       "['hello']"
      ]
     },
     "execution_count": 46,
     "metadata": {},
     "output_type": "execute_result"
    }
   ],
   "source": [
    "greet"
   ]
  },
  {
   "cell_type": "markdown",
   "id": "b6044c5e-6c91-4182-a136-fd05071267c8",
   "metadata": {},
   "source": [
    "3. Remove empty strings from a list\n",
    "\n",
    "data = ['Python', '', 'Java', '', 'C++']\n",
    "Output: ['Python', 'Java', 'C++']\n"
   ]
  },
  {
   "cell_type": "code",
   "execution_count": 47,
   "id": "07bb7e13-0b94-4f2f-8217-9dbafc90fb32",
   "metadata": {},
   "outputs": [],
   "source": [
    "data = ['Python', '', 'Java', '', 'C++']\n",
    "empty=list(filter(None,data))"
   ]
  },
  {
   "cell_type": "code",
   "execution_count": 48,
   "id": "f1e4a6f9-c3e0-487d-8e56-59dba6c0499e",
   "metadata": {},
   "outputs": [
    {
     "data": {
      "text/plain": [
       "['Python', 'Java', 'C++']"
      ]
     },
     "execution_count": 48,
     "metadata": {},
     "output_type": "execute_result"
    }
   ],
   "source": [
    "empty"
   ]
  },
  {
   "cell_type": "markdown",
   "id": "d0afcfa1-b975-49d0-8b19-d9b1d0a75140",
   "metadata": {},
   "source": [
    "4. Get names that start with 'A'\n",
    "names = ['Alice', 'Bob', 'Angela', 'Tom']\n",
    "Output: ['Alice', 'Angela']"
   ]
  },
  {
   "cell_type": "code",
   "execution_count": 52,
   "id": "69a20e90-83f0-49b8-bae7-451756b322fa",
   "metadata": {},
   "outputs": [],
   "source": [
    "names = ['Alice', 'Bob', 'Angela', 'Tom']\n",
    "start=list(filter(lambda x:x.startswith('A'),names))\n",
    "           "
   ]
  },
  {
   "cell_type": "code",
   "execution_count": 53,
   "id": "24b611dd-974f-44c3-90a7-e9d164c2304e",
   "metadata": {},
   "outputs": [
    {
     "data": {
      "text/plain": [
       "['Alice', 'Angela']"
      ]
     },
     "execution_count": 53,
     "metadata": {},
     "output_type": "execute_result"
    }
   ],
   "source": [
    "start"
   ]
  },
  {
   "cell_type": "markdown",
   "id": "2c464191-23f5-469d-9b54-eabcf030bf9f",
   "metadata": {},
   "source": [
    "5. Keep truthy values only\n",
    "\n",
    "items = [0, None, 'hello', False, 42, '']\n",
    "Output: ['hello', 42]\n"
   ]
  },
  {
   "cell_type": "code",
   "execution_count": 55,
   "id": "e55a093a-fcbf-497a-8de8-70106b5a33e0",
   "metadata": {},
   "outputs": [],
   "source": [
    "items = [0, None, 'hello', False, 42, '']\n",
    "truthy=list(filter(None,items))\n"
   ]
  },
  {
   "cell_type": "code",
   "execution_count": 56,
   "id": "8b839fac-14db-4182-a643-2296a27a9de4",
   "metadata": {},
   "outputs": [
    {
     "data": {
      "text/plain": [
       "['hello', 42]"
      ]
     },
     "execution_count": 56,
     "metadata": {},
     "output_type": "execute_result"
    }
   ],
   "source": [
    "truthy"
   ]
  },
  {
   "cell_type": "markdown",
   "id": "866b139f-6101-4eab-a63f-7f70f9da32a1",
   "metadata": {},
   "source": [
    "1. Sum of all numbers\n",
    "\n",
    "nums = [1, 2, 3, 4]\n",
    "Output: 10"
   ]
  },
  {
   "cell_type": "code",
   "execution_count": 57,
   "id": "ab9618c5-6909-42da-8094-be31041cdd8a",
   "metadata": {},
   "outputs": [],
   "source": [
    "from functools import reduce"
   ]
  },
  {
   "cell_type": "code",
   "execution_count": 62,
   "id": "a42279e5-b0be-4840-88c0-0071eb031384",
   "metadata": {},
   "outputs": [],
   "source": [
    "nums = [1, 2, 3, 4]\n",
    "sum= reduce(lambda x, y: x + y, nums)"
   ]
  },
  {
   "cell_type": "markdown",
   "id": "90f05f49-dbe3-4efc-a8d8-94954dd6a232",
   "metadata": {},
   "source": []
  },
  {
   "cell_type": "code",
   "execution_count": 63,
   "id": "54055d85-a091-4243-87e7-8c02fc7af23c",
   "metadata": {},
   "outputs": [
    {
     "data": {
      "text/plain": [
       "10"
      ]
     },
     "execution_count": 63,
     "metadata": {},
     "output_type": "execute_result"
    }
   ],
   "source": [
    "sum"
   ]
  },
  {
   "cell_type": "markdown",
   "id": "bb7e4932-3cf1-4a0b-acfc-2b8e46716950",
   "metadata": {},
   "source": [
    "2. Product of all even numbers\n",
    "nums = [1, 2, 3, 4, 5]\n",
    "Filter even → [2, 4]\n",
    "Reduce → 8"
   ]
  },
  {
   "cell_type": "code",
   "execution_count": 68,
   "id": "b07d12ad-8f84-40d2-9174-a69fe94a558e",
   "metadata": {},
   "outputs": [],
   "source": [
    "nums = [1, 2, 3, 4, 5]\n",
    "even=list(filter(lambda x: x%2==0,nums))\n",
    "product = reduce(lambda x, y: x * y,even)\n"
   ]
  },
  {
   "cell_type": "code",
   "execution_count": 69,
   "id": "1af8553d-cdbf-4845-aa6b-aeb949be4722",
   "metadata": {},
   "outputs": [
    {
     "data": {
      "text/plain": [
       "8"
      ]
     },
     "execution_count": 69,
     "metadata": {},
     "output_type": "execute_result"
    }
   ],
   "source": [
    "product"
   ]
  },
  {
   "cell_type": "markdown",
   "id": "d550d8eb-ee39-4569-91a3-79dba4323a9a",
   "metadata": {},
   "source": [
    "3. Find the longest word\n",
    "words = ['apple', 'banana', 'kiwi']\n",
    "Output: 'banana'"
   ]
  },
  {
   "cell_type": "code",
   "execution_count": 70,
   "id": "9d944c0f-d2f0-4cfe-aad1-08f35ba536f3",
   "metadata": {},
   "outputs": [],
   "source": [
    "words = ['apple', 'banana', 'kiwi']\n",
    "longest = reduce(lambda x, y: x if len(x) > len(y) else y, words)\n"
   ]
  },
  {
   "cell_type": "code",
   "execution_count": 71,
   "id": "e18f1950-2b62-4fed-9b0d-741ccc0f7f34",
   "metadata": {},
   "outputs": [
    {
     "data": {
      "text/plain": [
       "'banana'"
      ]
     },
     "execution_count": 71,
     "metadata": {},
     "output_type": "execute_result"
    }
   ],
   "source": [
    "longest"
   ]
  },
  {
   "cell_type": "markdown",
   "id": "952e7cd0-538a-44c3-aaed-13e007008bae",
   "metadata": {},
   "source": [
    "4. Join list of strings into one sentence\n",
    "words = ['Python', 'is', 'fun']\n",
    "Output: 'Python is fun'\n"
   ]
  },
  {
   "cell_type": "code",
   "execution_count": 72,
   "id": "fdc98aab-901e-4d61-a5bb-f12e14fe881a",
   "metadata": {},
   "outputs": [],
   "source": [
    "words = ['Python', 'is', 'fun']\n",
    "sentence=reduce(lambda x,y:x +\" \"+y,words)"
   ]
  },
  {
   "cell_type": "code",
   "execution_count": 73,
   "id": "bbfbd733-6405-495f-a685-3cd1d7238077",
   "metadata": {},
   "outputs": [
    {
     "data": {
      "text/plain": [
       "'Python is fun'"
      ]
     },
     "execution_count": 73,
     "metadata": {},
     "output_type": "execute_result"
    }
   ],
   "source": [
    "sentence"
   ]
  },
  {
   "cell_type": "markdown",
   "id": "e38ff0b9-c19e-4694-81e0-983d9053f58f",
   "metadata": {},
   "source": [
    "5. Create number from digits\n",
    "\n",
    "digits = [1, 2, 3, 4]\n",
    "Output: 1234"
   ]
  },
  {
   "cell_type": "code",
   "execution_count": null,
   "id": "fa5be21b-cac1-4181-8690-db9e526a7e8a",
   "metadata": {},
   "outputs": [],
   "source": [
    "digits = [1, 2, 3, 4]\n",
    "number = reduce(lambda x, y: x * 10 + y, digits)"
   ]
  }
 ],
 "metadata": {
  "kernelspec": {
   "display_name": "Python 3 (ipykernel)",
   "language": "python",
   "name": "python3"
  },
  "language_info": {
   "codemirror_mode": {
    "name": "ipython",
    "version": 3
   },
   "file_extension": ".py",
   "mimetype": "text/x-python",
   "name": "python",
   "nbconvert_exporter": "python",
   "pygments_lexer": "ipython3",
   "version": "3.13.5"
  }
 },
 "nbformat": 4,
 "nbformat_minor": 5
}
