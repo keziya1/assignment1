{
 "cells": [
  {
   "cell_type": "code",
   "execution_count": 1,
   "id": "dd39cb55-73ec-423d-b59f-5a40e071efa7",
   "metadata": {},
   "outputs": [],
   "source": [
    "#21.Create a tuple of three colors and print it.\n",
    "t = (\"green\",\"blue\",\"black\")\n"
   ]
  },
  {
   "cell_type": "code",
   "execution_count": 2,
   "id": "ee66a5e8-4926-4214-843e-9d9c023a9237",
   "metadata": {},
   "outputs": [
    {
     "data": {
      "text/plain": [
       "('green', 'blue', 'black')"
      ]
     },
     "execution_count": 2,
     "metadata": {},
     "output_type": "execute_result"
    }
   ],
   "source": [
    "t"
   ]
  },
  {
   "cell_type": "code",
   "execution_count": 3,
   "id": "06aedbb6-1112-4e65-b425-57808742e412",
   "metadata": {},
   "outputs": [
    {
     "data": {
      "text/plain": [
       "tuple"
      ]
     },
     "execution_count": 3,
     "metadata": {},
     "output_type": "execute_result"
    }
   ],
   "source": [
    "type(t)"
   ]
  },
  {
   "cell_type": "code",
   "execution_count": 5,
   "id": "2fd5ab62-4b11-4da1-913d-cc1cc05e1cf5",
   "metadata": {},
   "outputs": [
    {
     "data": {
      "text/plain": [
       "'blue'"
      ]
     },
     "execution_count": 5,
     "metadata": {},
     "output_type": "execute_result"
    }
   ],
   "source": [
    "#22.Print the second element of a given tuple.\n",
    "t[1]\n"
   ]
  },
  {
   "cell_type": "code",
   "execution_count": 8,
   "id": "2c248876-2db0-4d55-8bfd-960f1f8cecfb",
   "metadata": {},
   "outputs": [
    {
     "ename": "TypeError",
     "evalue": "'tuple' object does not support item assignment",
     "output_type": "error",
     "traceback": [
      "\u001b[1;31m---------------------------------------------------------------------------\u001b[0m",
      "\u001b[1;31mTypeError\u001b[0m                                 Traceback (most recent call last)",
      "Cell \u001b[1;32mIn[8], line 3\u001b[0m\n\u001b[0;32m      1\u001b[0m \u001b[38;5;66;03m#Try changing an element in a tuple (observe the error).\u001b[39;00m\n\u001b[0;32m      2\u001b[0m t \u001b[38;5;241m=\u001b[39m (\u001b[38;5;124m\"\u001b[39m\u001b[38;5;124mgreen\u001b[39m\u001b[38;5;124m\"\u001b[39m,\u001b[38;5;124m\"\u001b[39m\u001b[38;5;124mblue\u001b[39m\u001b[38;5;124m\"\u001b[39m,\u001b[38;5;124m\"\u001b[39m\u001b[38;5;124mblack\u001b[39m\u001b[38;5;124m\"\u001b[39m)\n\u001b[1;32m----> 3\u001b[0m t[\u001b[38;5;241m1\u001b[39m]\u001b[38;5;241m=\u001b[39m\u001b[38;5;124m\"\u001b[39m\u001b[38;5;124myellow\u001b[39m\u001b[38;5;124m\"\u001b[39m\n",
      "\u001b[1;31mTypeError\u001b[0m: 'tuple' object does not support item assignment"
     ]
    }
   ],
   "source": [
    "#Try changing an element in a tuple (observe the error).\n",
    "t = (\"green\",\"blue\",\"black\")\n",
    "t[1]=\"yellow\" # because tuples are immutable"
   ]
  },
  {
   "cell_type": "code",
   "execution_count": 10,
   "id": "53ec5668-1a47-4288-a644-3eb981e4f261",
   "metadata": {},
   "outputs": [],
   "source": [
    "#24.Convert a tuple to a list and print it.\n",
    "t = (\"green\",\"blue\",\"black\")\n",
    "t2=list(t)\n"
   ]
  },
  {
   "cell_type": "code",
   "execution_count": 11,
   "id": "f22299a9-0e00-4e28-a4b7-0ed254f4a4e5",
   "metadata": {},
   "outputs": [
    {
     "data": {
      "text/plain": [
       "['green', 'blue', 'black']"
      ]
     },
     "execution_count": 11,
     "metadata": {},
     "output_type": "execute_result"
    }
   ],
   "source": [
    "t2"
   ]
  },
  {
   "cell_type": "code",
   "execution_count": 12,
   "id": "d08a7fed-c840-488c-b5e9-ff131dc17767",
   "metadata": {},
   "outputs": [
    {
     "data": {
      "text/plain": [
       "list"
      ]
     },
     "execution_count": 12,
     "metadata": {},
     "output_type": "execute_result"
    }
   ],
   "source": [
    "type(t2)"
   ]
  },
  {
   "cell_type": "code",
   "execution_count": 14,
   "id": "0994ad53-dfba-439c-bd05-6d833a1d0495",
   "metadata": {},
   "outputs": [
    {
     "data": {
      "text/plain": [
       "True"
      ]
     },
     "execution_count": 14,
     "metadata": {},
     "output_type": "execute_result"
    }
   ],
   "source": [
    "#25.Check if \"blue\" exists in a given tuple.\n",
    "t = (\"green\",\"blue\",\"black\")\n",
    "\"blue\" in t\n",
    "\n"
   ]
  },
  {
   "cell_type": "code",
   "execution_count": 17,
   "id": "8c4f678b-f133-4ba5-9e17-a3c17589e66a",
   "metadata": {},
   "outputs": [
    {
     "name": "stdout",
     "output_type": "stream",
     "text": [
      "green\n",
      "blue\n",
      "black\n"
     ]
    }
   ],
   "source": [
    "#26.Print each element of a tuple using a loop.\n",
    "t = (\"green\",\"blue\",\"black\")\n",
    "for color in t:\n",
    "    print(color)\n",
    "    "
   ]
  },
  {
   "cell_type": "code",
   "execution_count": 18,
   "id": "dfca4347-eb24-4dee-8473-54ec6394681f",
   "metadata": {},
   "outputs": [],
   "source": [
    "#27.Merge two tuples and print the result.\n",
    "t=(1,5,3,8,4)\n",
    "t1=(2,8,4,9,6)\n",
    "t2=t+t1\n"
   ]
  },
  {
   "cell_type": "code",
   "execution_count": 19,
   "id": "1aeeda63-646b-43d4-9427-2cfd4e3b1e12",
   "metadata": {},
   "outputs": [
    {
     "data": {
      "text/plain": [
       "(1, 5, 3, 8, 4, 2, 8, 4, 9, 6)"
      ]
     },
     "execution_count": 19,
     "metadata": {},
     "output_type": "execute_result"
    }
   ],
   "source": [
    "t2"
   ]
  },
  {
   "cell_type": "code",
   "execution_count": 20,
   "id": "e057c239-e266-43d8-b8a5-7f3b99eaacc9",
   "metadata": {},
   "outputs": [
    {
     "data": {
      "text/plain": [
       "(4, 8, 3, 5, 1)"
      ]
     },
     "execution_count": 20,
     "metadata": {},
     "output_type": "execute_result"
    }
   ],
   "source": [
    "#28.Print a tuple in reverse order.\n",
    "\n",
    "t=(1,5,3,8,4)\n",
    "t[::-1]"
   ]
  },
  {
   "cell_type": "code",
   "execution_count": 31,
   "id": "19abe901-650c-475a-b4fd-140497a86bc5",
   "metadata": {},
   "outputs": [
    {
     "name": "stdout",
     "output_type": "stream",
     "text": [
      "31\n"
     ]
    }
   ],
   "source": [
    "29.Find the length of a tuple without using len().\n"
   ]
  },
  {
   "cell_type": "code",
   "execution_count": 33,
   "id": "060df96e-533c-47f3-9038-f1c4ee4b0018",
   "metadata": {},
   "outputs": [
    {
     "name": "stdout",
     "output_type": "stream",
     "text": [
      "Length of tuple: 9\n"
     ]
    }
   ],
   "source": [
    "#29.Find the length of a tuple without using len().\n",
    "t = (1, 3, 2, 4, 5, 6, 7, 7, 8)\n",
    "\n",
    "c = 0\n",
    "for i in t:\n",
    "    c += 1\n",
    "\n",
    "print(\"Length of tuple:\", c)\n"
   ]
  },
  {
   "cell_type": "code",
   "execution_count": 36,
   "id": "d89946f9-fd49-4ee5-8415-46d45d2f19b3",
   "metadata": {},
   "outputs": [
    {
     "data": {
      "text/plain": [
       "tuple"
      ]
     },
     "execution_count": 36,
     "metadata": {},
     "output_type": "execute_result"
    }
   ],
   "source": [
    "#30.Create a tuple with a single element and print its type.\n",
    "t=( \"keziya\",)\n",
    "type(t)\n"
   ]
  },
  {
   "cell_type": "code",
   "execution_count": 38,
   "id": "31f8243a-553d-4991-b335-56066f6c0982",
   "metadata": {},
   "outputs": [
    {
     "data": {
      "text/plain": [
       "'World!'"
      ]
     },
     "execution_count": 38,
     "metadata": {},
     "output_type": "execute_result"
    }
   ],
   "source": [
    "#31.Create a string \"Hello, World!\" and print only \"World!\".\n",
    "s = (\"Hello, World!\")\n",
    "s[7:]\n"
   ]
  },
  {
   "cell_type": "code",
   "execution_count": 39,
   "id": "12764957-49e0-42fa-b891-aed2117e9d21",
   "metadata": {},
   "outputs": [
    {
     "name": "stdout",
     "output_type": "stream",
     "text": [
      "PYTHON IS FUN\n"
     ]
    }
   ],
   "source": [
    "#32.Convert \"Python is fun\" to \"PYTHON IS FUN\" without using .upper().\n",
    "s = \"Python is fun\"\n",
    "result = \"\"\n",
    "\n",
    "for ch in s:\n",
    "    if ch >= 'a' and ch <= 'z':\n",
    "        result += chr(ord(ch) - 32)\n",
    "    else:\n",
    "        result += ch\n",
    "\n",
    "print(result)\n",
    "\n"
   ]
  },
  {
   "cell_type": "code",
   "execution_count": 41,
   "id": "bcdb1e0b-bc21-46d2-9fe0-c03445e91128",
   "metadata": {},
   "outputs": [
    {
     "name": "stdout",
     "output_type": "stream",
     "text": [
      "4\n"
     ]
    }
   ],
   "source": [
    "#33.Count how many words are in \"I love learning Python\" (without using .split()).\n",
    "s = \"I love learning Python\"\n",
    "count = 1  \n",
    "\n",
    "for ch in s:\n",
    "    if ch == \" \":\n",
    "        count += 1\n",
    "\n",
    "print( count)\n"
   ]
  },
  {
   "cell_type": "code",
   "execution_count": 42,
   "id": "f01fe7ad-c287-4da6-aa3e-af4e910e813b",
   "metadata": {},
   "outputs": [
    {
     "name": "stdin",
     "output_type": "stream",
     "text": [
      " Hello guys\n"
     ]
    },
    {
     "name": "stdout",
     "output_type": "stream",
     "text": [
      "Yes\n"
     ]
    }
   ],
   "source": [
    "#34.Take a string input from the user and check if it starts with \"Hello\".\n",
    "s = input()\n",
    "\n",
    "if s[0:5] == \"Hello\":\n",
    "    print(\"Yes\")\n",
    "else:\n",
    "    print(\"No\")\n",
    "\n"
   ]
  },
  {
   "cell_type": "code",
   "execution_count": 43,
   "id": "6ea97cf1-3406-4abe-8f2a-d6b077618bef",
   "metadata": {},
   "outputs": [
    {
     "data": {
      "text/plain": [
       "'pto sfn'"
      ]
     },
     "execution_count": 43,
     "metadata": {},
     "output_type": "execute_result"
    }
   ],
   "source": [
    "#35.Print every second character of a string.\n",
    "s = \"python is fun\"\n",
    "s[::2]\n"
   ]
  },
  {
   "cell_type": "code",
   "execution_count": 45,
   "id": "624b44d9-dc68-4952-8b18-4a76d059eb55",
   "metadata": {},
   "outputs": [
    {
     "name": "stdout",
     "output_type": "stream",
     "text": [
      "k*z*y*\n"
     ]
    }
   ],
   "source": [
    "#36.Replace all vowels in a string with \"*\".\n",
    "s = \"keziya\"\n",
    "vowels = \"aeiou\"\n",
    "result = \"\"\n",
    "for ch in s:\n",
    "    if ch in vowels:\n",
    "        result += \"*\"\n",
    "    else:\n",
    "        result += ch\n",
    "print(result)\n",
    "        \n"
   ]
  },
  {
   "cell_type": "code",
   "execution_count": 46,
   "id": "ccbdb313-6d36-413f-8741-a69af317b15c",
   "metadata": {},
   "outputs": [
    {
     "name": "stdout",
     "output_type": "stream",
     "text": [
      "aeziyk\n"
     ]
    }
   ],
   "source": [
    "#37.Swap the first and last character of a string.\n",
    "s = \"keziya\"\n",
    "new_s = s[-1] + s[1:-1] + s[0]\n",
    "print(new_s)\n"
   ]
  },
  {
   "cell_type": "code",
   "execution_count": 47,
   "id": "380be559-14a3-427a-8734-9102f7e9d30b",
   "metadata": {},
   "outputs": [
    {
     "name": "stdout",
     "output_type": "stream",
     "text": [
      "Strings are different\n"
     ]
    }
   ],
   "source": [
    "#38.Check if two given strings are the same (case-sensitive).\n",
    "s1 = \"Hello\"\n",
    "s2 = \"hello\"\n",
    "\n",
    "if s1 == s2:\n",
    "    print(\"Strings are the same\")\n",
    "else:\n",
    "    print(\"Strings are different\")\n",
    "\n"
   ]
  },
  {
   "cell_type": "code",
   "execution_count": 48,
   "id": "d9a8b238-4904-4d33-86eb-5a9a6685b0f7",
   "metadata": {},
   "outputs": [
    {
     "data": {
      "text/plain": [
       "'eziy'"
      ]
     },
     "execution_count": 48,
     "metadata": {},
     "output_type": "execute_result"
    }
   ],
   "source": [
    "#39.Print a string without the first and last character.\n",
    "s = \"keziya\"\n",
    "s[1:-1]\n",
    "\n"
   ]
  },
  {
   "cell_type": "code",
   "execution_count": 49,
   "id": "02f2f7d9-2e69-47f3-aeff-b9bab2126d6b",
   "metadata": {},
   "outputs": [
    {
     "name": "stdout",
     "output_type": "stream",
     "text": [
      "['1', '2', '3', '4', '5']\n"
     ]
    }
   ],
   "source": [
    "#40.Convert a string \"12345\" into a list of individual characters.\n",
    "s = \"12345\"\n",
    "s2 = list(s)\n",
    "print(s2)\n"
   ]
  },
  {
   "cell_type": "code",
   "execution_count": 53,
   "id": "8ecc51ba-b79b-4019-8638-100a1a08f223",
   "metadata": {},
   "outputs": [
    {
     "data": {
      "text/plain": [
       "['TL', 'DELHI', 'MI']"
      ]
     },
     "execution_count": 53,
     "metadata": {},
     "output_type": "execute_result"
    }
   ],
   "source": [
    "#41.Create a list of five cities and print only the last three.\n",
    "l = [\"AP\",\"TN\",\"TL\",\"DELHI\",\"MI\"]\n",
    "l[2:]"
   ]
  },
  {
   "cell_type": "code",
   "execution_count": 60,
   "id": "24ff50c3-ef94-41d1-88a8-72a0dee6d4db",
   "metadata": {},
   "outputs": [
    {
     "data": {
      "text/plain": [
       "['AP', 'TN', 'DELHI', 'MI']"
      ]
     },
     "execution_count": 60,
     "metadata": {},
     "output_type": "execute_result"
    }
   ],
   "source": [
    "#42.Remove the middle element from a list of five elements.\n",
    "l = [\"AP\",\"TN\",\"TL\",\"DELHI\",\"MI\"]\n",
    "l.pop(2)\n",
    "l\n",
    "\n"
   ]
  },
  {
   "cell_type": "code",
   "execution_count": 64,
   "id": "bbffe95b-cc1b-4236-8a1f-ecf11c49c0e0",
   "metadata": {},
   "outputs": [
    {
     "name": "stdin",
     "output_type": "stream",
     "text": [
      "Enter a number:  10\n",
      "Enter a number:  20\n",
      "Enter a number:  30\n",
      "Enter a number:  40\n",
      "Enter a number:  50\n"
     ]
    },
    {
     "name": "stdout",
     "output_type": "stream",
     "text": [
      "List of numbers: [10, 20, 30, 40, 50]\n"
     ]
    }
   ],
   "source": [
    "#43.Take five numbers from the user and store them in a list.\n",
    "numbers = []\n",
    "\n",
    "for i in range(5):\n",
    "    num = int(input(\"Enter a number: \"))\n",
    "    numbers.append(num)\n",
    "\n",
    "print(\"List of numbers:\", numbers)\n"
   ]
  },
  {
   "cell_type": "code",
   "execution_count": 70,
   "id": "369b805a-fe8a-49dc-b4ac-2e9568e49ee3",
   "metadata": {},
   "outputs": [
    {
     "name": "stdout",
     "output_type": "stream",
     "text": [
      "2\n"
     ]
    }
   ],
   "source": [
    "#44.Find the index of \"apple\" in the list [\"banana\", \"orange\", \"apple\", \"grape\"].\n",
    "l = [\"banana\", \"orange\", \"apple\", \"grape\"]\n",
    "print(l.index(\"apple\"))\n"
   ]
  },
  {
   "cell_type": "code",
   "execution_count": 71,
   "id": "86998aa0-a16c-4f54-9b79-ecae9870259b",
   "metadata": {},
   "outputs": [
    {
     "name": "stdout",
     "output_type": "stream",
     "text": [
      "2\n",
      "4\n",
      "10\n",
      "14\n"
     ]
    }
   ],
   "source": [
    "#45.Print only the even numbers from a given list.\n",
    "l = [2,7,4,9,5,10,14]\n",
    "for num in l:\n",
    "    if num % 2 == 0:\n",
    "        print(num)\n",
    "\n",
    "\n"
   ]
  },
  {
   "cell_type": "code",
   "execution_count": 72,
   "id": "4bddb5ac-5a47-4c5b-9754-143ebedd455b",
   "metadata": {},
   "outputs": [
    {
     "name": "stdout",
     "output_type": "stream",
     "text": [
      "Reversed list: [5, 4, 3, 2, 1]\n"
     ]
    }
   ],
   "source": [
    "#.Reverse a list by swapping elements (without [::-1]).\n",
    "l = [1, 2, 3, 4, 5]\n",
    "n = len(l)\n",
    "\n",
    "for i in range(n // 2):\n",
    "    l[i], l[n - 1 - i] = l[n - 1 - i], l[i]  \n",
    "\n",
    "print(\"Reversed list:\", l)\n"
   ]
  },
  {
   "cell_type": "code",
   "execution_count": 74,
   "id": "411745ac-52d7-4146-b0ce-9819c5d97d23",
   "metadata": {},
   "outputs": [
    {
     "name": "stdout",
     "output_type": "stream",
     "text": [
      "1\n",
      "4\n",
      "6\n",
      "7\n"
     ]
    }
   ],
   "source": [
    "#47.Create a list of ten numbers and print only the unique elements.\n",
    "l = [1, 2, 3, 2, 4, 5, 3, 6, 7, 5]\n",
    "for i in l:\n",
    "    if l.count(i) == 1:\n",
    "        print(i)\n"
   ]
  },
  {
   "cell_type": "code",
   "execution_count": 75,
   "id": "3149d236-2172-465c-8ddd-b92320e94956",
   "metadata": {},
   "outputs": [
    {
     "name": "stdout",
     "output_type": "stream",
     "text": [
      "Sum: 15\n"
     ]
    }
   ],
   "source": [
    "#48.Print the sum of all elements in a list (without using sum()).\n",
    "l = [1, 2, 3, 4, 5]\n",
    "total = 0\n",
    "\n",
    "for i in l:\n",
    "    total += i\n",
    "\n",
    "print(\"Sum:\", total)\n"
   ]
  },
  {
   "cell_type": "code",
   "execution_count": 76,
   "id": "3b746048-1b06-46fd-b2ad-55a7222d199e",
   "metadata": {},
   "outputs": [
    {
     "name": "stdout",
     "output_type": "stream",
     "text": [
      "Updated list: [20, 30, 40, 50, 10]\n"
     ]
    }
   ],
   "source": [
    "#49.Move the first element of a list to the last position.\n",
    "l = [10, 20, 30, 40, 50]\n",
    "\n",
    "first = l.pop(0)  \n",
    "l.append(first)  \n",
    "print(\"Updated list:\", l)\n"
   ]
  },
  {
   "cell_type": "code",
   "execution_count": 77,
   "id": "4a31957a-f719-41ea-b9bb-ce9418199687",
   "metadata": {},
   "outputs": [
    {
     "name": "stdout",
     "output_type": "stream",
     "text": [
      "10 -> <class 'int'>\n",
      "3.14 -> <class 'float'>\n",
      "hello -> <class 'str'>\n",
      "25 -> <class 'int'>\n",
      "Python -> <class 'str'>\n",
      "7.5 -> <class 'float'>\n"
     ]
    }
   ],
   "source": [
    "#50.Create a list with mixed data types (int, float, string) and print each element with its type.\n",
    "mixed_list = [10, 3.14, \"hello\", 25, \"Python\", 7.5]\n",
    "\n",
    "for item in mixed_list:\n",
    "    print(item, \"->\", type(item))\n"
   ]
  },
  {
   "cell_type": "code",
   "execution_count": null,
   "id": "9527a95e-c1a0-4cf8-8410-b4ac8262e758",
   "metadata": {},
   "outputs": [],
   "source": []
  }
 ],
 "metadata": {
  "kernelspec": {
   "display_name": "Python 3 (ipykernel)",
   "language": "python",
   "name": "python3"
  },
  "language_info": {
   "codemirror_mode": {
    "name": "ipython",
    "version": 3
   },
   "file_extension": ".py",
   "mimetype": "text/x-python",
   "name": "python",
   "nbconvert_exporter": "python",
   "pygments_lexer": "ipython3",
   "version": "3.13.5"
  }
 },
 "nbformat": 4,
 "nbformat_minor": 5
}
