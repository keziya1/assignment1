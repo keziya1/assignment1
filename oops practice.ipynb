{
 "cells": [
  {
   "cell_type": "markdown",
   "id": "e0131323-79c6-4d0e-8dea-53e9b49b17d3",
   "metadata": {},
   "source": [
    "1. Create a class called Car with attributes brand, model, and year. Create an object of this class and display its attributes.\n"
   ]
  },
  {
   "cell_type": "code",
   "execution_count": 2,
   "id": "998a1bae-a417-4160-87da-72f7be36d781",
   "metadata": {},
   "outputs": [],
   "source": [
    "class car():\n",
    "    def __init__(self,brand,model,year):\n",
    "        self.brand=brand\n",
    "        self.model=model\n",
    "        self.year=year\n",
    "        "
   ]
  },
  {
   "cell_type": "code",
   "execution_count": 3,
   "id": "3b6dfad3-673e-48fb-adb9-f63aebe43d76",
   "metadata": {},
   "outputs": [],
   "source": [
    "car1=car('BMW','BMW 3 Series',2015)"
   ]
  },
  {
   "cell_type": "code",
   "execution_count": 5,
   "id": "cce714d0-14dd-4e6a-9f01-8a0a4195f29a",
   "metadata": {},
   "outputs": [
    {
     "data": {
      "text/plain": [
       "'BMW'"
      ]
     },
     "execution_count": 5,
     "metadata": {},
     "output_type": "execute_result"
    }
   ],
   "source": [
    "car1.brand"
   ]
  },
  {
   "cell_type": "code",
   "execution_count": 6,
   "id": "2a9c3901-6dc4-40d9-9f3d-f7f4781c6d46",
   "metadata": {},
   "outputs": [
    {
     "data": {
      "text/plain": [
       "2015"
      ]
     },
     "execution_count": 6,
     "metadata": {},
     "output_type": "execute_result"
    }
   ],
   "source": [
    "car1.year"
   ]
  },
  {
   "cell_type": "code",
   "execution_count": 7,
   "id": "69e4737e-8d29-4e49-9da1-eae6fd4f5722",
   "metadata": {},
   "outputs": [
    {
     "data": {
      "text/plain": [
       "'BMW 3 Series'"
      ]
     },
     "execution_count": 7,
     "metadata": {},
     "output_type": "execute_result"
    }
   ],
   "source": [
    "car1.model"
   ]
  },
  {
   "cell_type": "code",
   "execution_count": 8,
   "id": "cb22e042-40b5-4a60-9116-61e644d0808e",
   "metadata": {},
   "outputs": [
    {
     "data": {
      "text/plain": [
       "['__class__',\n",
       " '__delattr__',\n",
       " '__dict__',\n",
       " '__dir__',\n",
       " '__doc__',\n",
       " '__eq__',\n",
       " '__firstlineno__',\n",
       " '__format__',\n",
       " '__ge__',\n",
       " '__getattribute__',\n",
       " '__getstate__',\n",
       " '__gt__',\n",
       " '__hash__',\n",
       " '__init__',\n",
       " '__init_subclass__',\n",
       " '__le__',\n",
       " '__lt__',\n",
       " '__module__',\n",
       " '__ne__',\n",
       " '__new__',\n",
       " '__reduce__',\n",
       " '__reduce_ex__',\n",
       " '__repr__',\n",
       " '__setattr__',\n",
       " '__sizeof__',\n",
       " '__static_attributes__',\n",
       " '__str__',\n",
       " '__subclasshook__',\n",
       " '__weakref__',\n",
       " 'brand',\n",
       " 'model',\n",
       " 'year']"
      ]
     },
     "execution_count": 8,
     "metadata": {},
     "output_type": "execute_result"
    }
   ],
   "source": [
    "dir(car1)"
   ]
  },
  {
   "cell_type": "markdown",
   "id": "5ef5e118-a3bb-4e33-8cba-ea7c6e913846",
   "metadata": {},
   "source": [
    "2. Create a class Person with attributes name and age. Create an object and print its attributes.\n"
   ]
  },
  {
   "cell_type": "code",
   "execution_count": 9,
   "id": "6870ec24-cad3-474e-b989-83a24b33820c",
   "metadata": {},
   "outputs": [],
   "source": [
    "class person():\n",
    "    def __init__(self,name,age):\n",
    "        self.name=name\n",
    "        self.age=age\n",
    "        "
   ]
  },
  {
   "cell_type": "code",
   "execution_count": 10,
   "id": "8e8c173c-9a7b-46a6-8657-6644c9f1e551",
   "metadata": {},
   "outputs": [],
   "source": [
    "person1=person(\"keziya\",22)\n",
    "person2=person(\"unnisa\",22)"
   ]
  },
  {
   "cell_type": "code",
   "execution_count": 11,
   "id": "f2ef44c0-1a1d-4e59-b8a8-19ccc39a6ec0",
   "metadata": {},
   "outputs": [
    {
     "data": {
      "text/plain": [
       "'keziya'"
      ]
     },
     "execution_count": 11,
     "metadata": {},
     "output_type": "execute_result"
    }
   ],
   "source": [
    "person1.name"
   ]
  },
  {
   "cell_type": "code",
   "execution_count": 12,
   "id": "b5c31b35-8b72-4ef8-a37f-d4fb07585b63",
   "metadata": {},
   "outputs": [
    {
     "data": {
      "text/plain": [
       "'unnisa'"
      ]
     },
     "execution_count": 12,
     "metadata": {},
     "output_type": "execute_result"
    }
   ],
   "source": [
    "person2.name"
   ]
  },
  {
   "cell_type": "code",
   "execution_count": 13,
   "id": "10946bed-8ca2-443c-9f5e-08c462b11128",
   "metadata": {},
   "outputs": [],
   "source": [
    "person1.age=21"
   ]
  },
  {
   "cell_type": "code",
   "execution_count": 14,
   "id": "789494d2-b20a-4ecd-acb8-db32c93a94e5",
   "metadata": {},
   "outputs": [
    {
     "data": {
      "text/plain": [
       "21"
      ]
     },
     "execution_count": 14,
     "metadata": {},
     "output_type": "execute_result"
    }
   ],
   "source": [
    "person1.age"
   ]
  },
  {
   "cell_type": "code",
   "execution_count": 15,
   "id": "9e2d6159-fe0b-470b-92fd-a401ff8d8f2b",
   "metadata": {},
   "outputs": [
    {
     "data": {
      "text/plain": [
       "22"
      ]
     },
     "execution_count": 15,
     "metadata": {},
     "output_type": "execute_result"
    }
   ],
   "source": [
    "person2.age"
   ]
  },
  {
   "cell_type": "markdown",
   "id": "8f3f83b5-ab6d-4a22-a59a-308523da98b9",
   "metadata": {},
   "source": [
    "3. Define a class Book with attributes title, author, and price. Create multiple objects with different values.\n"
   ]
  },
  {
   "cell_type": "code",
   "execution_count": 16,
   "id": "dde14220-6f2b-4411-87ba-6abbc109256c",
   "metadata": {},
   "outputs": [],
   "source": [
    "class book():\n",
    "    def __init__(self,title,author,price):\n",
    "        self.title=title\n",
    "        self.author=author\n",
    "        self.price=price"
   ]
  },
  {
   "cell_type": "code",
   "execution_count": 17,
   "id": "d402433f-0864-4cbe-b29c-963b506e3a52",
   "metadata": {},
   "outputs": [],
   "source": [
    "book1=book('Python Course','Eric Matthes',550)\n",
    "book2=book(\"Head First Java\", \"Kathy Sierra & Bert Bates\", 700)\n",
    "book3=book(\"C Programming Absolute Beginner's Guide\", \"Greg Perry & Dean Miller\", 450)\n"
   ]
  },
  {
   "cell_type": "code",
   "execution_count": 18,
   "id": "49823981-47f4-4be3-af93-fb42f42ff3bd",
   "metadata": {},
   "outputs": [
    {
     "data": {
      "text/plain": [
       "450"
      ]
     },
     "execution_count": 18,
     "metadata": {},
     "output_type": "execute_result"
    }
   ],
   "source": [
    "book3.price"
   ]
  },
  {
   "cell_type": "code",
   "execution_count": 19,
   "id": "e3668ac2-2905-4c8a-89cf-4488ad167884",
   "metadata": {},
   "outputs": [
    {
     "data": {
      "text/plain": [
       "'Python Course'"
      ]
     },
     "execution_count": 19,
     "metadata": {},
     "output_type": "execute_result"
    }
   ],
   "source": [
    "book1.title"
   ]
  },
  {
   "cell_type": "code",
   "execution_count": 20,
   "id": "f44781ff-6770-4e43-8bf4-3a548bdb9da3",
   "metadata": {},
   "outputs": [
    {
     "data": {
      "text/plain": [
       "'Kathy Sierra & Bert Bates'"
      ]
     },
     "execution_count": 20,
     "metadata": {},
     "output_type": "execute_result"
    }
   ],
   "source": [
    "book2.author"
   ]
  },
  {
   "cell_type": "markdown",
   "id": "d375b7af-cf78-4f4e-8eed-2f5ed3ddbb8b",
   "metadata": {},
   "source": [
    "4. Write a MobilePhone class with attributes brand, model, and price. Create an object and print its details.\n"
   ]
  },
  {
   "cell_type": "code",
   "execution_count": 27,
   "id": "457cc2b2-aaa2-4752-90b6-d740e7228af5",
   "metadata": {},
   "outputs": [],
   "source": [
    "class MobilePhone():\n",
    "    def __init__(self,brand,model,price):\n",
    "        self.brand=brand\n",
    "        self.model=model\n",
    "        self.price=price"
   ]
  },
  {
   "cell_type": "code",
   "execution_count": 28,
   "id": "b7f8baa2-f4f7-4a87-ae73-d33a27d11da9",
   "metadata": {},
   "outputs": [],
   "source": [
    "phone1=MobilePhone('sumsung','galaxy',120000)"
   ]
  },
  {
   "cell_type": "code",
   "execution_count": 29,
   "id": "941cc4e5-ec21-4317-a0bc-23637327e680",
   "metadata": {},
   "outputs": [
    {
     "data": {
      "text/plain": [
       "'galaxy'"
      ]
     },
     "execution_count": 29,
     "metadata": {},
     "output_type": "execute_result"
    }
   ],
   "source": [
    "phone1.model"
   ]
  },
  {
   "cell_type": "code",
   "execution_count": 30,
   "id": "3c945fa2-88f7-4999-af68-52c0fc65219e",
   "metadata": {},
   "outputs": [
    {
     "data": {
      "text/plain": [
       "120000"
      ]
     },
     "execution_count": 30,
     "metadata": {},
     "output_type": "execute_result"
    }
   ],
   "source": [
    "phone1.price"
   ]
  },
  {
   "cell_type": "code",
   "execution_count": 31,
   "id": "5b35f419-3d90-4aa7-9ad9-572d46013761",
   "metadata": {},
   "outputs": [
    {
     "data": {
      "text/plain": [
       "'sumsung'"
      ]
     },
     "execution_count": 31,
     "metadata": {},
     "output_type": "execute_result"
    }
   ],
   "source": [
    "phone1.brand"
   ]
  },
  {
   "cell_type": "markdown",
   "id": "3c74fc53-23d6-414d-9698-ec15c5df05a7",
   "metadata": {},
   "source": [
    "5. Create a Laptop class with attributes brand, ram_size, and processor. Assign values and print them using an object.\n"
   ]
  },
  {
   "cell_type": "code",
   "execution_count": 32,
   "id": "4d73cd28-8ec4-41bd-aa80-d700946763dd",
   "metadata": {},
   "outputs": [],
   "source": [
    "class Laptop():\n",
    "    def __init__(self,brand,ram_size,processor):\n",
    "        self.brand=brand\n",
    "        self.ram_size=ram_size\n",
    "        self.processor=processor"
   ]
  },
  {
   "cell_type": "code",
   "execution_count": 33,
   "id": "e141c7fc-c305-444b-aa15-e9c5206fe247",
   "metadata": {},
   "outputs": [],
   "source": [
    "lp1=Laptop(\"hp\",\"8gb\",\"corei3\")"
   ]
  },
  {
   "cell_type": "raw",
   "id": "dbcab6bb-3e7b-4495-8f29-f1bb634d98ee",
   "metadata": {},
   "source": [
    "lp1.brand"
   ]
  },
  {
   "cell_type": "code",
   "execution_count": 35,
   "id": "d71e1728-f520-4808-979c-d182d72b488e",
   "metadata": {},
   "outputs": [
    {
     "data": {
      "text/plain": [
       "'corei3'"
      ]
     },
     "execution_count": 35,
     "metadata": {},
     "output_type": "execute_result"
    }
   ],
   "source": [
    "lp1.processor"
   ]
  },
  {
   "cell_type": "code",
   "execution_count": 36,
   "id": "3c696323-b3f2-4114-bbe2-dfb79c1433ce",
   "metadata": {},
   "outputs": [
    {
     "data": {
      "text/plain": [
       "'8gb'"
      ]
     },
     "execution_count": 36,
     "metadata": {},
     "output_type": "execute_result"
    }
   ],
   "source": [
    "lp1.ram_size"
   ]
  },
  {
   "cell_type": "markdown",
   "id": "87b9ef85-a2e1-491c-893a-f3d8db44cf3b",
   "metadata": {},
   "source": [
    "6. Define a Movie class with attributes title, genre, and rating. Create objects and display their attributes.\n"
   ]
  },
  {
   "cell_type": "code",
   "execution_count": 37,
   "id": "a2f8a224-9be3-4c25-a18f-231c837443ab",
   "metadata": {},
   "outputs": [],
   "source": [
    "class Movie():\n",
    "    def __init__(self,title,genre,rating):\n",
    "        self.title=title\n",
    "        self.genre=genre\n",
    "        self.rating=rating"
   ]
  },
  {
   "cell_type": "code",
   "execution_count": 38,
   "id": "97c0c24a-5185-46eb-afbd-95cb139060eb",
   "metadata": {},
   "outputs": [],
   "source": [
    "movie1=Movie(\"Baahubali: The Beginning\",\"action drama\",9)\n",
    "movie2=Movie(\"RRR\",\"action drama\",9)\n",
    "movie3=Movie(\"MAD\",\"COMEDY\",8)\n",
    "\n",
    "\n"
   ]
  },
  {
   "cell_type": "code",
   "execution_count": 39,
   "id": "98ce1576-6dd2-4b39-84a9-5083d053d170",
   "metadata": {},
   "outputs": [
    {
     "data": {
      "text/plain": [
       "9"
      ]
     },
     "execution_count": 39,
     "metadata": {},
     "output_type": "execute_result"
    }
   ],
   "source": [
    "movie2.rating"
   ]
  },
  {
   "cell_type": "code",
   "execution_count": 40,
   "id": "bc3f1067-36fd-4434-90f7-a72aa25966bf",
   "metadata": {},
   "outputs": [
    {
     "data": {
      "text/plain": [
       "'Baahubali: The Beginning'"
      ]
     },
     "execution_count": 40,
     "metadata": {},
     "output_type": "execute_result"
    }
   ],
   "source": [
    "movie1.title"
   ]
  },
  {
   "cell_type": "code",
   "execution_count": 41,
   "id": "c564c4de-953a-4e30-a9c2-57703e16db80",
   "metadata": {},
   "outputs": [
    {
     "data": {
      "text/plain": [
       "'COMEDY'"
      ]
     },
     "execution_count": 41,
     "metadata": {},
     "output_type": "execute_result"
    }
   ],
   "source": [
    "movie3.genre"
   ]
  },
  {
   "cell_type": "markdown",
   "id": "7344a275-ed19-4220-8e3d-2fdee74b05a8",
   "metadata": {},
   "source": [
    "CHALLENGES"
   ]
  },
  {
   "cell_type": "markdown",
   "id": "3d27902e-0890-45a8-9cd5-f49258332dd0",
   "metadata": {},
   "source": [
    "1.Modify the Book class to add a method discount_price(discount_percent) that reduces the price based on a given percentage.\n"
   ]
  },
  {
   "cell_type": "code",
   "execution_count": 42,
   "id": "096dc8f5-7e41-47e4-9e30-10a39cf0458e",
   "metadata": {},
   "outputs": [],
   "source": [
    "class Book():\n",
    "    def __init__(self, title, author, price):\n",
    "        self.title = title\n",
    "        self.author = author\n",
    "        self.price = price\n",
    "\n",
    "    def discount_price(self, discount_percent):\n",
    "        discount_amount = (discount_percent / 100) * self.price\n",
    "        self.price = self.price - discount_amount\n",
    "        return self.price\n",
    "\n"
   ]
  },
  {
   "cell_type": "code",
   "execution_count": 47,
   "id": "78442e9a-a050-48c9-ac6f-c9c67374b2e2",
   "metadata": {},
   "outputs": [],
   "source": [
    "book1 = Book(\"Python Course\", \"Eric Matthes\", 550)"
   ]
  },
  {
   "cell_type": "code",
   "execution_count": 48,
   "id": "faf820e7-e768-4798-bf85-6c2f6f6e328e",
   "metadata": {},
   "outputs": [
    {
     "data": {
      "text/plain": [
       "'Python Course'"
      ]
     },
     "execution_count": 48,
     "metadata": {},
     "output_type": "execute_result"
    }
   ],
   "source": [
    "book1.title"
   ]
  },
  {
   "cell_type": "code",
   "execution_count": 45,
   "id": "e085f5c9-3c5d-4196-adf4-e5483d2be05a",
   "metadata": {},
   "outputs": [
    {
     "name": "stdout",
     "output_type": "stream",
     "text": [
      "Original Price: ₹ 495.0\n",
      "Discounted Price: ₹ 445.5\n"
     ]
    }
   ],
   "source": [
    "print(\"Original Price: ₹\", book1.price)\n",
    "book1.discount_price(10) \n",
    "print(\"Discounted Price: ₹\", book1.price)"
   ]
  },
  {
   "cell_type": "code",
   "execution_count": 49,
   "id": "f056694d-c15a-41d6-ad61-b6433c670839",
   "metadata": {},
   "outputs": [
    {
     "name": "stdout",
     "output_type": "stream",
     "text": [
      "Keziya is adult: True\n",
      "Ravi is adult: False\n"
     ]
    }
   ],
   "source": [
    "class Person():\n",
    "    def __init__(self, name, age):\n",
    "        self.name = name\n",
    "        self.age = age\n",
    "\n",
    "    def diplay(self):\n",
    "        return self.age >= 18\n",
    "\n",
    "\n",
    "person1 = Person(\"Keziya\", 20)\n",
    "person2 = Person(\"Ravi\", 15)\n",
    "\n",
    "print(person1.name, \"is adult:\", person1.is_adult())\n",
    "print(person2.name, \"is adult:\", person2.is_adult())\n"
   ]
  },
  {
   "cell_type": "markdown",
   "id": "addc5d2a-5d31-4574-a7cd-25a9c838a6a2",
   "metadata": {},
   "source": [
    "Create a class Person with attributes name and age. Write a method to display these attributes.\n"
   ]
  },
  {
   "cell_type": "code",
   "execution_count": 1,
   "id": "a386dd30-9c67-4094-9c09-3548c7a55897",
   "metadata": {},
   "outputs": [],
   "source": [
    "class Person:\n",
    "    def __init__(self,name,age):\n",
    "        self.name=name\n",
    "        self.age=age\n",
    "    def display(self):\n",
    "        print(f\"my name is {self.name}\")\n",
    "        "
   ]
  },
  {
   "cell_type": "code",
   "execution_count": 3,
   "id": "d8f6c421-ed50-46c4-bc6a-e4365316ee0e",
   "metadata": {},
   "outputs": [],
   "source": [
    "my_person=Person(\"keziya\",22)"
   ]
  },
  {
   "cell_type": "code",
   "execution_count": 4,
   "id": "d978f28e-8d88-4a58-ad32-4d863b9d00c0",
   "metadata": {},
   "outputs": [
    {
     "data": {
      "text/plain": [
       "'keziya'"
      ]
     },
     "execution_count": 4,
     "metadata": {},
     "output_type": "execute_result"
    }
   ],
   "source": [
    "my_person.name"
   ]
  },
  {
   "cell_type": "code",
   "execution_count": 5,
   "id": "399b21bf-c517-4f85-b015-61de78f22457",
   "metadata": {},
   "outputs": [
    {
     "data": {
      "text/plain": [
       "22"
      ]
     },
     "execution_count": 5,
     "metadata": {},
     "output_type": "execute_result"
    }
   ],
   "source": [
    "my_person.age"
   ]
  },
  {
   "cell_type": "code",
   "execution_count": 6,
   "id": "e6bcb78d-0545-4fbb-9d45-2ec58a3611d1",
   "metadata": {},
   "outputs": [
    {
     "name": "stdout",
     "output_type": "stream",
     "text": [
      "my name is keziya\n"
     ]
    }
   ],
   "source": [
    "my_person.display()"
   ]
  },
  {
   "cell_type": "markdown",
   "id": "623ec572-092b-4ef9-9e1e-4fd7dfd55ae9",
   "metadata": {},
   "source": [
    "Create two instances of the Person class and display their information.\n"
   ]
  },
  {
   "cell_type": "code",
   "execution_count": 9,
   "id": "57f97470-8135-4ff1-bc13-365b23e03eb8",
   "metadata": {},
   "outputs": [
    {
     "name": "stdout",
     "output_type": "stream",
     "text": [
      "Name: Keziya\n",
      "Age: 22\n",
      "Name: David\n",
      "Age: 19\n"
     ]
    }
   ],
   "source": [
    "class Person:\n",
    "    def __init__(self, name, age):\n",
    "        self.name = name\n",
    "        self.age = age\n",
    "\n",
    "    def display_info(self):\n",
    "        print(f\"Name: {self.name}\")\n",
    "        print(f\"Age: {self.age}\")\n",
    "\n",
    "person1 = Person(\"Keziya\", 22)\n",
    "person2 = Person(\"David\", 19)\n",
    "\n",
    "person1.display_info()  \n",
    "person2.display_info()\n"
   ]
  },
  {
   "cell_type": "markdown",
   "id": "92a28a87-39b8-4aa4-8450-358d4f64be43",
   "metadata": {},
   "source": [
    "Add a constructor (__init__) method to initialize attributes while creating the object.\n"
   ]
  },
  {
   "cell_type": "code",
   "execution_count": 10,
   "id": "56f00258-0855-4642-b143-68f481340b3d",
   "metadata": {},
   "outputs": [
    {
     "name": "stdout",
     "output_type": "stream",
     "text": [
      "Name: Keziya\n",
      "Age: 22\n",
      "Name: David\n",
      "Age: 20\n"
     ]
    }
   ],
   "source": [
    "class Person:\n",
    "    def __init__(self, name, age):\n",
    "        self.name = name  # Initialize 'name' attribute\n",
    "        self.age = age    # Initialize 'age' attribute\n",
    "\n",
    "    def display_info(self):\n",
    "        print(f\"Name: {self.name}\")\n",
    "        print(f\"Age: {self.age}\")\n",
    "\n",
    "person1 = Person(\"Keziya\", 22)\n",
    "person2 = Person(\"David\", 20)\n",
    "\n",
    "# Display their info\n",
    "person1.display_info()\n",
    "person2.display_info()\n"
   ]
  },
  {
   "cell_type": "markdown",
   "id": "f4d48ae1-9143-49a9-956d-01eeea256071",
   "metadata": {},
   "source": [
    "Write a class Rectangle with attributes length and width. Add a method to compute area.\n"
   ]
  },
  {
   "cell_type": "code",
   "execution_count": 20,
   "id": "b7c8c474-a973-40df-ba8d-218863f148dd",
   "metadata": {},
   "outputs": [],
   "source": [
    "class Rectangle:\n",
    "    def __init__(self,length,width):\n",
    "        self.length=length\n",
    "        self.width=width\n",
    "    def compute_area(self):\n",
    "        area =self.length * self.width\n",
    "        print(f\"area of rectangle {area}\")\n",
    "    "
   ]
  },
  {
   "cell_type": "code",
   "execution_count": 21,
   "id": "3c535dd7-4e0d-48f6-83cc-ef411ff3602d",
   "metadata": {},
   "outputs": [],
   "source": [
    "area1=Rectangle(10,15)"
   ]
  },
  {
   "cell_type": "code",
   "execution_count": 22,
   "id": "14282b9b-58aa-4364-948a-4e69be5c6343",
   "metadata": {},
   "outputs": [
    {
     "name": "stdout",
     "output_type": "stream",
     "text": [
      "area of rectangle 150\n"
     ]
    }
   ],
   "source": [
    "area1.compute_area()"
   ]
  },
  {
   "cell_type": "markdown",
   "id": "f2ca15c6-8c9f-47fb-b239-6f24e0ecffd0",
   "metadata": {},
   "source": [
    "Create a class Car with methods to start the car, stop the car, and display car status.\n"
   ]
  },
  {
   "cell_type": "code",
   "execution_count": 28,
   "id": "b441f72a-e764-4f26-b0ef-9ea8ed7a37ec",
   "metadata": {},
   "outputs": [],
   "source": [
    "class Car:\n",
    "    def __init__(self,name):\n",
    "        self.name=name\n",
    "    def start(self):\n",
    "        print(f\"{self.name} is started\")\n",
    "    def stop(self):\n",
    "        print(f\"{self.name} is stopped\")\n",
    "    def display(self):\n",
    "        print(f\"{self.name} is displayed\")"
   ]
  },
  {
   "cell_type": "code",
   "execution_count": 29,
   "id": "3ee43396-5a03-4c06-a24c-c81e1d146b10",
   "metadata": {},
   "outputs": [],
   "source": [
    "car1=Car(\"audi\")"
   ]
  },
  {
   "cell_type": "code",
   "execution_count": 30,
   "id": "f67d39bc-5d3f-47ab-8e09-beceb21120b4",
   "metadata": {},
   "outputs": [
    {
     "name": "stdout",
     "output_type": "stream",
     "text": [
      "audi is started\n",
      "audi is stopped\n",
      "audi is displayed\n"
     ]
    }
   ],
   "source": [
    "car1.start()\n",
    "car1.stop()\n",
    "car1.display()"
   ]
  },
  {
   "cell_type": "markdown",
   "id": "3ad638e3-1af4-4fa7-be6e-a63bd2571139",
   "metadata": {},
   "source": [
    "Modify the Person class to make age a private variable. Add getter and setter methods.\n"
   ]
  },
  {
   "cell_type": "code",
   "execution_count": 34,
   "id": "3b160073-915e-42ef-b5b3-d22fa154aa89",
   "metadata": {},
   "outputs": [],
   "source": [
    "class Person:\n",
    "    def __init__(self, name, age):\n",
    "        self.name = name\n",
    "        self.__age = age  # Private variable (double underscore)\n",
    "\n",
    "    def display_info(self):\n",
    "        print(f\"Name: {self.name}\")\n",
    "        print(f\"Age: {self.__age}\")\n",
    "\n",
    "    # Getter method for age\n",
    "    def get_age(self):\n",
    "        return self.__age\n",
    "\n",
    "    # Setter method for age\n",
    "    def set_age(self, new_age):\n",
    "        if new_age > 0:\n",
    "            self.__age = new_age\n",
    "        else:\n",
    "            print(\"Invalid age. Age must be positive.\")\n",
    "\n",
    "\n",
    "\n"
   ]
  },
  {
   "cell_type": "code",
   "execution_count": 39,
   "id": "495c527d-f3d0-441d-b5ea-15e3956b0e7a",
   "metadata": {},
   "outputs": [],
   "source": [
    "person1 = Person(\"Keziya\", 22)"
   ]
  },
  {
   "cell_type": "code",
   "execution_count": 40,
   "id": "9a297aff-9114-4a76-ba79-2b48a9ee9d69",
   "metadata": {},
   "outputs": [
    {
     "name": "stdout",
     "output_type": "stream",
     "text": [
      "Name: Keziya\n",
      "Age: 22\n"
     ]
    }
   ],
   "source": [
    "person1.display_info()\n"
   ]
  },
  {
   "cell_type": "markdown",
   "id": "0fdce51b-ef2d-4974-a75d-4b09c5c84afe",
   "metadata": {},
   "source": [
    "Create a base class Animal with a method speak(). Derive classes Dog and Cat that override this method.\n"
   ]
  },
  {
   "cell_type": "code",
   "execution_count": 45,
   "id": "46b87b8d-2fc7-4c6c-83a8-b3d343ba8109",
   "metadata": {},
   "outputs": [],
   "source": [
    "# Base Class\n",
    "class Animal:\n",
    "    def speak(self):\n",
    "        print(\"The animal makes a sound\")\n",
    "\n",
    "class Dog(Animal):\n",
    "    def speak(self):\n",
    "        print(\"The dog barks\")\n",
    "\n",
    "class Cat(Animal):\n",
    "    def speak(self):\n",
    "        print(\"The cat meows\")\n"
   ]
  },
  {
   "cell_type": "code",
   "execution_count": 46,
   "id": "818d5989-94cb-476b-ae7b-b13f791fb29b",
   "metadata": {},
   "outputs": [
    {
     "name": "stdout",
     "output_type": "stream",
     "text": [
      "The animal makes a sound\n",
      "The dog barks\n",
      "The cat meows\n"
     ]
    }
   ],
   "source": [
    "animal.speak()  \n",
    "dog.speak()     \n",
    "cat.speak()"
   ]
  },
  {
   "cell_type": "markdown",
   "id": "d64804ef-8376-429d-8b15-423ebd95979e",
   "metadata": {},
   "source": [
    "Create a class BankAccount with deposit and withdraw methods. Make the balance private.\n"
   ]
  },
  {
   "cell_type": "code",
   "execution_count": null,
   "id": "d729e682-6a0d-4e65-84ff-d0487240dd42",
   "metadata": {},
   "outputs": [],
   "source": [
    "class BankAccount"
   ]
  }
 ],
 "metadata": {
  "kernelspec": {
   "display_name": "Python 3 (ipykernel)",
   "language": "python",
   "name": "python3"
  },
  "language_info": {
   "codemirror_mode": {
    "name": "ipython",
    "version": 3
   },
   "file_extension": ".py",
   "mimetype": "text/x-python",
   "name": "python",
   "nbconvert_exporter": "python",
   "pygments_lexer": "ipython3",
   "version": "3.13.5"
  }
 },
 "nbformat": 4,
 "nbformat_minor": 5
}
