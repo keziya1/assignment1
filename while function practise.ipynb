{
 "cells": [
  {
   "cell_type": "code",
   "execution_count": 9,
   "id": "03700d16-0b67-411d-a716-0206a057b8af",
   "metadata": {},
   "outputs": [
    {
     "name": "stdout",
     "output_type": "stream",
     "text": [
      "1\n",
      "2\n",
      "3\n",
      "4\n",
      "5\n",
      "6\n",
      "7\n",
      "8\n",
      "9\n",
      "10\n"
     ]
    }
   ],
   "source": [
    "#1. Print Numbers from 1 to 10\n",
    "\n",
    "#Expected Output: 1 2 3 ... 10\n",
    "i=1\n",
    "while i <= 10:\n",
    "    print(i)\n",
    "    i += 1\n",
    "    \n"
   ]
  },
  {
   "cell_type": "code",
   "execution_count": 10,
   "id": "85e42b9e-61c6-4599-bff7-f21c598d24db",
   "metadata": {},
   "outputs": [
    {
     "name": "stdin",
     "output_type": "stream",
     "text": [
      " 5\n"
     ]
    },
    {
     "name": "stdout",
     "output_type": "stream",
     "text": [
      " total is: 15\n"
     ]
    }
   ],
   "source": [
    "#2. Sum of Numbers from 1 to N\n",
    "\n",
    "#Input: 5\n",
    "#Expected Output: 15 (1+2+3+4+5)\n",
    "n=int(input())\n",
    "i=1\n",
    "sum=0\n",
    "while i <= n:\n",
    "    sum =sum + i\n",
    "    i=i+1\n",
    "print(\" total is:\",sum)"
   ]
  },
  {
   "cell_type": "code",
   "execution_count": 1,
   "id": "6c2c7419-3d0a-448e-a711-dac183aab86b",
   "metadata": {},
   "outputs": [
    {
     "name": "stdin",
     "output_type": "stream",
     "text": [
      " 10\n"
     ]
    },
    {
     "name": "stdout",
     "output_type": "stream",
     "text": [
      "2\n",
      "4\n",
      "6\n",
      "8\n",
      "10\n"
     ]
    }
   ],
   "source": [
    "#3. Print Even Numbers up to N\n",
    "#Input: 10\n",
    "#Expected Output: 2 4 6 8 10\n",
    "n=int(input())\n",
    "i=1\n",
    "while i <=n:\n",
    "    if i%2==0:\n",
    "        print(i,)\n",
    "    i+=1\n",
    "        \n",
    "        "
   ]
  },
  {
   "cell_type": "code",
   "execution_count": 2,
   "id": "ac909cef-8660-4419-a3a1-6bf5f9ce805c",
   "metadata": {},
   "outputs": [
    {
     "name": "stdin",
     "output_type": "stream",
     "text": [
      "Enter a number:  10\n"
     ]
    },
    {
     "name": "stdout",
     "output_type": "stream",
     "text": [
      "2 4 6 8 10 "
     ]
    }
   ],
   "source": [
    "n = int(input(\"Enter a number: \"))\n",
    "i = 1\n",
    "\n",
    "while i <= n:\n",
    "    if i % 2 == 0:\n",
    "        print(i, end=' ')\n",
    "    i += 1\n"
   ]
  },
  {
   "cell_type": "code",
   "execution_count": 14,
   "id": "bdf47503-4a17-4bcb-9180-1d448a5d57c2",
   "metadata": {},
   "outputs": [
    {
     "name": "stdin",
     "output_type": "stream",
     "text": [
      " 12345\n"
     ]
    },
    {
     "name": "stdout",
     "output_type": "stream",
     "text": [
      "5\n"
     ]
    }
   ],
   "source": [
    "#4. Count Digits in a Number\n",
    "\n",
    "#Input: 12345\n",
    "#Expected Output: 5\n",
    "n=int(input())\n",
    "count=0\n",
    "while n>0:\n",
    "    n=n//10\n",
    "    count+=1\n",
    "print(count)\n",
    "    \n"
   ]
  },
  {
   "cell_type": "code",
   "execution_count": 15,
   "id": "6fda4657-41e2-4352-8b88-58dbbd2a1764",
   "metadata": {},
   "outputs": [
    {
     "name": "stdin",
     "output_type": "stream",
     "text": [
      "Enter a number:  1234\n"
     ]
    },
    {
     "name": "stdout",
     "output_type": "stream",
     "text": [
      "Number of digits: 4\n"
     ]
    }
   ],
   "source": [
    "n = input(\"Enter a number: \")\n",
    "print(\"Number of digits:\", len(n))\n"
   ]
  },
  {
   "cell_type": "code",
   "execution_count": 16,
   "id": "cddf690b-850d-4252-b29d-a8303fab2a66",
   "metadata": {},
   "outputs": [
    {
     "name": "stdin",
     "output_type": "stream",
     "text": [
      " 1234\n"
     ]
    },
    {
     "name": "stdout",
     "output_type": "stream",
     "text": [
      "4321\n"
     ]
    }
   ],
   "source": [
    "#5.Reverse a Number\n",
    "#Input: 1234\n",
    "#Output: 4321\n",
    "n=int(input())\n",
    "rev=0\n",
    "while n >0:\n",
    "    digit=n%10\n",
    "    rev=rev*10+digit\n",
    "    n=n//10\n",
    "print(rev)\n"
   ]
  },
  {
   "cell_type": "code",
   "execution_count": 18,
   "id": "da04a89d-4be1-42a0-915d-a9f564fceb19",
   "metadata": {},
   "outputs": [
    {
     "name": "stdin",
     "output_type": "stream",
     "text": [
      "Enter a number:  121\n"
     ]
    },
    {
     "name": "stdout",
     "output_type": "stream",
     "text": [
      "True\n"
     ]
    }
   ],
   "source": [
    "#6. Check if a Number is a Palindrome\n",
    "#Input: 121\n",
    "#Output: True\n",
    "n = int(input(\"Enter a number: \"))\n",
    "original = n\n",
    "rev = 0\n",
    "\n",
    "while n > 0:\n",
    "    digit = n % 10          \n",
    "    rev = rev * 10 + digit  \n",
    "    n = n // 10            \n",
    "\n",
    "if original == rev:\n",
    "    print(\"True\")   \n",
    "else:\n",
    "    print(\"False\")  \n",
    "\n"
   ]
  },
  {
   "cell_type": "code",
   "execution_count": 3,
   "id": "98584910-20d1-44b5-a939-d4211694a743",
   "metadata": {},
   "outputs": [],
   "source": [
    "#Function to Find Maximum of Three Numbers\n",
    "def test(a, b, c):\n",
    "    return max(a,b,c)\n",
    "    \n",
    "\n",
    "    \n",
    "\n",
    "\n"
   ]
  },
  {
   "cell_type": "code",
   "execution_count": 4,
   "id": "f533e2c6-51fb-43c4-9af8-7e29cb62da15",
   "metadata": {},
   "outputs": [
    {
     "data": {
      "text/plain": [
       "30"
      ]
     },
     "execution_count": 4,
     "metadata": {},
     "output_type": "execute_result"
    }
   ],
   "source": [
    "test(10,20,30)"
   ]
  },
  {
   "cell_type": "code",
   "execution_count": 5,
   "id": "a8522104-c5c2-494b-a628-58f406e05f58",
   "metadata": {},
   "outputs": [],
   "source": [
    "#Function to Add Two Numbers\n",
    "\n",
    "def add(a, b):\n",
    "    return (a+b)\n",
    "    \n"
   ]
  },
  {
   "cell_type": "code",
   "execution_count": 6,
   "id": "3657fd69-81b4-4d63-9065-4106efa0841b",
   "metadata": {},
   "outputs": [
    {
     "data": {
      "text/plain": [
       "30"
      ]
     },
     "execution_count": 6,
     "metadata": {},
     "output_type": "execute_result"
    }
   ],
   "source": [
    "add(10,20)\n"
   ]
  },
  {
   "cell_type": "code",
   "execution_count": 17,
   "id": "69f13332-b4b9-44cd-8a41-017dc4240d18",
   "metadata": {},
   "outputs": [],
   "source": [
    "#returns True if prime, else False\n",
    "def is_prime(n):\n",
    "    \n",
    "    if n<=1:\n",
    "        \n",
    "        return False\n",
    "    for i in range(2,n-1):\n",
    "        if i%1==0:\n",
    "            return False\n",
    "    return True\n",
    "\n",
    "    \n",
    "    \n"
   ]
  },
  {
   "cell_type": "code",
   "execution_count": 18,
   "id": "4f5b86db-9f01-49fd-9077-cbb6642f71f1",
   "metadata": {},
   "outputs": [
    {
     "data": {
      "text/plain": [
       "False"
      ]
     },
     "execution_count": 18,
     "metadata": {},
     "output_type": "execute_result"
    }
   ],
   "source": [
    "is_prime(10)"
   ]
  },
  {
   "cell_type": "code",
   "execution_count": 14,
   "id": "54562e4b-f526-4db4-8799-c06f3f1f40ac",
   "metadata": {},
   "outputs": [],
   "source": [
    "# Returns True if number is prime, else False\n",
    "def is_prime(n):\n",
    "    if n <= 1:\n",
    "        return False\n",
    "    for i in range(2, n):\n",
    "        if n % i == 0:\n",
    "            return False\n",
    "    return True\n"
   ]
  },
  {
   "cell_type": "code",
   "execution_count": 16,
   "id": "c35fda62-1b17-4295-9773-5d40c80e002f",
   "metadata": {},
   "outputs": [
    {
     "data": {
      "text/plain": [
       "True"
      ]
     },
     "execution_count": 16,
     "metadata": {},
     "output_type": "execute_result"
    }
   ],
   "source": [
    "is_prime(7)\n"
   ]
  },
  {
   "cell_type": "code",
   "execution_count": 23,
   "id": "de06cdba-0309-406d-ae19-b52a8cea4780",
   "metadata": {},
   "outputs": [
    {
     "data": {
      "text/plain": [
       "120"
      ]
     },
     "execution_count": 23,
     "metadata": {},
     "output_type": "execute_result"
    }
   ],
   "source": [
    "#4. Function to Calculate Factorial\n",
    "def factorial(n):\n",
    "    result = 1\n",
    "    while n > 0:\n",
    "        result = result * n\n",
    "        n = n - 1\n",
    "    return result\n",
    "\n",
    "factorial(5)\n",
    "\n"
   ]
  },
  {
   "cell_type": "code",
   "execution_count": 25,
   "id": "99791b50-774e-43dc-b7dd-a15c4f7a2910",
   "metadata": {},
   "outputs": [],
   "source": [
    "#Function to Print Fibonacci Series up to N terms\n",
    "\n",
    "def fibonacci(n):\n",
    "    a = 0  # First term\n",
    "    b = 1  # Second term\n",
    "    count = 0\n",
    "\n",
    "    while count < n:\n",
    "        print(a, end=\" \")  # Print the current term\n",
    "        temp = a + b       # Calculate next term\n",
    "        a = b              # Shift a to b\n",
    "        b = temp           # Shift b to next term\n",
    "        count += 1         # Move to the next count\n",
    "\n",
    "    "
   ]
  },
  {
   "cell_type": "code",
   "execution_count": 27,
   "id": "0eba32fc-5d21-43d6-9644-ac10e1b43330",
   "metadata": {},
   "outputs": [
    {
     "name": "stdout",
     "output_type": "stream",
     "text": [
      "0 1 1 2 3 5 8 13 21 34 "
     ]
    }
   ],
   "source": [
    "fibonacci(10)"
   ]
  },
  {
   "cell_type": "code",
   "execution_count": 33,
   "id": "688d7af9-8590-4b97-9560-fd9b80735341",
   "metadata": {},
   "outputs": [],
   "source": [
    "#6.Function to Count Vowels in a String\n",
    "def count_vowels(s):\n",
    "\n",
    "    vowels=\"aeiou\"\n",
    "    count=0\n",
    "    for char in s:\n",
    "        if char in vowels:\n",
    "            count+=1\n",
    "    return count\n",
    "            \n"
   ]
  },
  {
   "cell_type": "code",
   "execution_count": 35,
   "id": "c099afde-af61-4894-9320-65f23c8907dd",
   "metadata": {},
   "outputs": [
    {
     "data": {
      "text/plain": [
       "3"
      ]
     },
     "execution_count": 35,
     "metadata": {},
     "output_type": "execute_result"
    }
   ],
   "source": [
    "count_vowels(\"keziya\")"
   ]
  },
  {
   "cell_type": "code",
   "execution_count": null,
   "id": "0720e755-f7de-4d8e-96f4-fc11c832b7b8",
   "metadata": {},
   "outputs": [],
   "source": []
  }
 ],
 "metadata": {
  "kernelspec": {
   "display_name": "Python 3 (ipykernel)",
   "language": "python",
   "name": "python3"
  },
  "language_info": {
   "codemirror_mode": {
    "name": "ipython",
    "version": 3
   },
   "file_extension": ".py",
   "mimetype": "text/x-python",
   "name": "python",
   "nbconvert_exporter": "python",
   "pygments_lexer": "ipython3",
   "version": "3.13.5"
  }
 },
 "nbformat": 4,
 "nbformat_minor": 5
}
