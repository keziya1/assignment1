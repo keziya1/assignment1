{
 "cells": [
  {
   "cell_type": "code",
   "execution_count": 1,
   "id": "244a3613-1c4a-45b7-9fea-0d84962424d9",
   "metadata": {},
   "outputs": [],
   "source": [
    "import pandas as pd"
   ]
  },
  {
   "cell_type": "code",
   "execution_count": 4,
   "id": "4e7aa2b6-c308-4956-97f4-ab15c3a386ef",
   "metadata": {},
   "outputs": [],
   "source": [
    "df = pd.read_csv(r'Agent_Performance_Report.csv')"
   ]
  },
  {
   "cell_type": "code",
   "execution_count": 5,
   "id": "ed7e11dc-fffb-45f0-944c-29f6107f6c49",
   "metadata": {},
   "outputs": [
    {
     "data": {
      "text/html": [
       "<div>\n",
       "<style scoped>\n",
       "    .dataframe tbody tr th:only-of-type {\n",
       "        vertical-align: middle;\n",
       "    }\n",
       "\n",
       "    .dataframe tbody tr th {\n",
       "        vertical-align: top;\n",
       "    }\n",
       "\n",
       "    .dataframe thead th {\n",
       "        text-align: right;\n",
       "    }\n",
       "</style>\n",
       "<table border=\"1\" class=\"dataframe\">\n",
       "  <thead>\n",
       "    <tr style=\"text-align: right;\">\n",
       "      <th></th>\n",
       "      <th>Agent Performance Report</th>\n",
       "      <th>Unnamed: 1</th>\n",
       "      <th>Unnamed: 2</th>\n",
       "      <th>Unnamed: 3</th>\n",
       "      <th>Unnamed: 4</th>\n",
       "      <th>Unnamed: 5</th>\n",
       "      <th>Unnamed: 6</th>\n",
       "      <th>Unnamed: 7</th>\n",
       "    </tr>\n",
       "  </thead>\n",
       "  <tbody>\n",
       "    <tr>\n",
       "      <th>0</th>\n",
       "      <td>SL No</td>\n",
       "      <td>Date</td>\n",
       "      <td>Agent Name</td>\n",
       "      <td>Total Chats</td>\n",
       "      <td>Average Response Time</td>\n",
       "      <td>Average Resolution Time</td>\n",
       "      <td>Average Rating</td>\n",
       "      <td>Total Feedback</td>\n",
       "    </tr>\n",
       "    <tr>\n",
       "      <th>1</th>\n",
       "      <td>1</td>\n",
       "      <td>2022-07-30</td>\n",
       "      <td>Prerna Singh</td>\n",
       "      <td>11</td>\n",
       "      <td>00:00:38</td>\n",
       "      <td>00:04:20</td>\n",
       "      <td>4.11</td>\n",
       "      <td>9</td>\n",
       "    </tr>\n",
       "    <tr>\n",
       "      <th>2</th>\n",
       "      <td>2</td>\n",
       "      <td>2022-07-30</td>\n",
       "      <td>Nandani Gupta</td>\n",
       "      <td>11</td>\n",
       "      <td>00:01:15</td>\n",
       "      <td>00:28:25</td>\n",
       "      <td>3.14</td>\n",
       "      <td>7</td>\n",
       "    </tr>\n",
       "    <tr>\n",
       "      <th>3</th>\n",
       "      <td>3</td>\n",
       "      <td>2022-07-30</td>\n",
       "      <td>Ameya Jain</td>\n",
       "      <td>14</td>\n",
       "      <td>00:00:30</td>\n",
       "      <td>00:11:36</td>\n",
       "      <td>4.55</td>\n",
       "      <td>11</td>\n",
       "    </tr>\n",
       "    <tr>\n",
       "      <th>4</th>\n",
       "      <td>4</td>\n",
       "      <td>2022-07-30</td>\n",
       "      <td>Mahesh Sarade</td>\n",
       "      <td>14</td>\n",
       "      <td>00:01:04</td>\n",
       "      <td>00:15:46</td>\n",
       "      <td>4.71</td>\n",
       "      <td>7</td>\n",
       "    </tr>\n",
       "    <tr>\n",
       "      <th>...</th>\n",
       "      <td>...</td>\n",
       "      <td>...</td>\n",
       "      <td>...</td>\n",
       "      <td>...</td>\n",
       "      <td>...</td>\n",
       "      <td>...</td>\n",
       "      <td>...</td>\n",
       "      <td>...</td>\n",
       "    </tr>\n",
       "    <tr>\n",
       "      <th>2156</th>\n",
       "      <td>2156</td>\n",
       "      <td>2022-07-01</td>\n",
       "      <td>Sowmiya Sivakumar</td>\n",
       "      <td>0</td>\n",
       "      <td>00:00:00</td>\n",
       "      <td>00:00:00</td>\n",
       "      <td>0.0</td>\n",
       "      <td>0</td>\n",
       "    </tr>\n",
       "    <tr>\n",
       "      <th>2157</th>\n",
       "      <td>2157</td>\n",
       "      <td>2022-07-01</td>\n",
       "      <td>Nitin M</td>\n",
       "      <td>0</td>\n",
       "      <td>00:00:00</td>\n",
       "      <td>00:00:00</td>\n",
       "      <td>0.0</td>\n",
       "      <td>0</td>\n",
       "    </tr>\n",
       "    <tr>\n",
       "      <th>2158</th>\n",
       "      <td>2158</td>\n",
       "      <td>2022-07-01</td>\n",
       "      <td>Vivek</td>\n",
       "      <td>0</td>\n",
       "      <td>00:00:00</td>\n",
       "      <td>00:00:00</td>\n",
       "      <td>0.0</td>\n",
       "      <td>0</td>\n",
       "    </tr>\n",
       "    <tr>\n",
       "      <th>2159</th>\n",
       "      <td>2159</td>\n",
       "      <td>2022-07-01</td>\n",
       "      <td>Ayushi Mishra</td>\n",
       "      <td>0</td>\n",
       "      <td>00:00:00</td>\n",
       "      <td>00:00:00</td>\n",
       "      <td>0.0</td>\n",
       "      <td>0</td>\n",
       "    </tr>\n",
       "    <tr>\n",
       "      <th>2160</th>\n",
       "      <td>2160</td>\n",
       "      <td>2022-07-01</td>\n",
       "      <td>Chaitra K Hiremath</td>\n",
       "      <td>0</td>\n",
       "      <td>00:00:00</td>\n",
       "      <td>00:00:00</td>\n",
       "      <td>0.0</td>\n",
       "      <td>0</td>\n",
       "    </tr>\n",
       "  </tbody>\n",
       "</table>\n",
       "<p>2161 rows × 8 columns</p>\n",
       "</div>"
      ],
      "text/plain": [
       "     Agent Performance Report  Unnamed: 1          Unnamed: 2   Unnamed: 3  \\\n",
       "0                       SL No        Date          Agent Name  Total Chats   \n",
       "1                           1  2022-07-30        Prerna Singh           11   \n",
       "2                           2  2022-07-30       Nandani Gupta           11   \n",
       "3                           3  2022-07-30          Ameya Jain           14   \n",
       "4                           4  2022-07-30       Mahesh Sarade           14   \n",
       "...                       ...         ...                 ...          ...   \n",
       "2156                     2156  2022-07-01   Sowmiya Sivakumar            0   \n",
       "2157                     2157  2022-07-01             Nitin M            0   \n",
       "2158                     2158  2022-07-01              Vivek             0   \n",
       "2159                     2159  2022-07-01       Ayushi Mishra            0   \n",
       "2160                     2160  2022-07-01  Chaitra K Hiremath            0   \n",
       "\n",
       "                 Unnamed: 4               Unnamed: 5      Unnamed: 6  \\\n",
       "0     Average Response Time  Average Resolution Time  Average Rating   \n",
       "1                  00:00:38                 00:04:20            4.11   \n",
       "2                  00:01:15                 00:28:25            3.14   \n",
       "3                  00:00:30                 00:11:36            4.55   \n",
       "4                  00:01:04                 00:15:46            4.71   \n",
       "...                     ...                      ...             ...   \n",
       "2156               00:00:00                 00:00:00             0.0   \n",
       "2157               00:00:00                 00:00:00             0.0   \n",
       "2158               00:00:00                 00:00:00             0.0   \n",
       "2159               00:00:00                 00:00:00             0.0   \n",
       "2160               00:00:00                 00:00:00             0.0   \n",
       "\n",
       "          Unnamed: 7  \n",
       "0     Total Feedback  \n",
       "1                  9  \n",
       "2                  7  \n",
       "3                 11  \n",
       "4                  7  \n",
       "...              ...  \n",
       "2156               0  \n",
       "2157               0  \n",
       "2158               0  \n",
       "2159               0  \n",
       "2160               0  \n",
       "\n",
       "[2161 rows x 8 columns]"
      ]
     },
     "execution_count": 5,
     "metadata": {},
     "output_type": "execute_result"
    }
   ],
   "source": [
    "df"
   ]
  },
  {
   "cell_type": "code",
   "execution_count": 6,
   "id": "0b46ad74-ae4f-4ffe-9756-0394395ce17b",
   "metadata": {},
   "outputs": [
    {
     "data": {
      "text/html": [
       "<div>\n",
       "<style scoped>\n",
       "    .dataframe tbody tr th:only-of-type {\n",
       "        vertical-align: middle;\n",
       "    }\n",
       "\n",
       "    .dataframe tbody tr th {\n",
       "        vertical-align: top;\n",
       "    }\n",
       "\n",
       "    .dataframe thead th {\n",
       "        text-align: right;\n",
       "    }\n",
       "</style>\n",
       "<table border=\"1\" class=\"dataframe\">\n",
       "  <thead>\n",
       "    <tr style=\"text-align: right;\">\n",
       "      <th></th>\n",
       "      <th>Agent Performance Report</th>\n",
       "      <th>Unnamed: 1</th>\n",
       "      <th>Unnamed: 2</th>\n",
       "      <th>Unnamed: 3</th>\n",
       "      <th>Unnamed: 4</th>\n",
       "      <th>Unnamed: 5</th>\n",
       "      <th>Unnamed: 6</th>\n",
       "      <th>Unnamed: 7</th>\n",
       "    </tr>\n",
       "  </thead>\n",
       "  <tbody>\n",
       "    <tr>\n",
       "      <th>0</th>\n",
       "      <td>SL No</td>\n",
       "      <td>Date</td>\n",
       "      <td>Agent Name</td>\n",
       "      <td>Total Chats</td>\n",
       "      <td>Average Response Time</td>\n",
       "      <td>Average Resolution Time</td>\n",
       "      <td>Average Rating</td>\n",
       "      <td>Total Feedback</td>\n",
       "    </tr>\n",
       "    <tr>\n",
       "      <th>1</th>\n",
       "      <td>1</td>\n",
       "      <td>2022-07-30</td>\n",
       "      <td>Prerna Singh</td>\n",
       "      <td>11</td>\n",
       "      <td>00:00:38</td>\n",
       "      <td>00:04:20</td>\n",
       "      <td>4.11</td>\n",
       "      <td>9</td>\n",
       "    </tr>\n",
       "    <tr>\n",
       "      <th>2</th>\n",
       "      <td>2</td>\n",
       "      <td>2022-07-30</td>\n",
       "      <td>Nandani Gupta</td>\n",
       "      <td>11</td>\n",
       "      <td>00:01:15</td>\n",
       "      <td>00:28:25</td>\n",
       "      <td>3.14</td>\n",
       "      <td>7</td>\n",
       "    </tr>\n",
       "    <tr>\n",
       "      <th>3</th>\n",
       "      <td>3</td>\n",
       "      <td>2022-07-30</td>\n",
       "      <td>Ameya Jain</td>\n",
       "      <td>14</td>\n",
       "      <td>00:00:30</td>\n",
       "      <td>00:11:36</td>\n",
       "      <td>4.55</td>\n",
       "      <td>11</td>\n",
       "    </tr>\n",
       "    <tr>\n",
       "      <th>4</th>\n",
       "      <td>4</td>\n",
       "      <td>2022-07-30</td>\n",
       "      <td>Mahesh Sarade</td>\n",
       "      <td>14</td>\n",
       "      <td>00:01:04</td>\n",
       "      <td>00:15:46</td>\n",
       "      <td>4.71</td>\n",
       "      <td>7</td>\n",
       "    </tr>\n",
       "  </tbody>\n",
       "</table>\n",
       "</div>"
      ],
      "text/plain": [
       "  Agent Performance Report  Unnamed: 1     Unnamed: 2   Unnamed: 3  \\\n",
       "0                    SL No        Date     Agent Name  Total Chats   \n",
       "1                        1  2022-07-30   Prerna Singh           11   \n",
       "2                        2  2022-07-30  Nandani Gupta           11   \n",
       "3                        3  2022-07-30     Ameya Jain           14   \n",
       "4                        4  2022-07-30  Mahesh Sarade           14   \n",
       "\n",
       "              Unnamed: 4               Unnamed: 5      Unnamed: 6  \\\n",
       "0  Average Response Time  Average Resolution Time  Average Rating   \n",
       "1               00:00:38                 00:04:20            4.11   \n",
       "2               00:01:15                 00:28:25            3.14   \n",
       "3               00:00:30                 00:11:36            4.55   \n",
       "4               00:01:04                 00:15:46            4.71   \n",
       "\n",
       "       Unnamed: 7  \n",
       "0  Total Feedback  \n",
       "1               9  \n",
       "2               7  \n",
       "3              11  \n",
       "4               7  "
      ]
     },
     "execution_count": 6,
     "metadata": {},
     "output_type": "execute_result"
    }
   ],
   "source": [
    "df.head()"
   ]
  },
  {
   "cell_type": "markdown",
   "id": "af71adf0-72de-4465-a8a7-d279a1da0d9e",
   "metadata": {},
   "source": [
    "1 .Find out there avarage rating on weekly basis keep this in a mind that they take two days of leave\n",
    "\n"
   ]
  },
  {
   "cell_type": "code",
   "execution_count": 8,
   "id": "e8e5d1d5-2e4d-4185-b8d2-9da3ad12e7a3",
   "metadata": {},
   "outputs": [
    {
     "ename": "KeyError",
     "evalue": "'Date'",
     "output_type": "error",
     "traceback": [
      "\u001b[31m---------------------------------------------------------------------------\u001b[39m",
      "\u001b[31mKeyError\u001b[39m                                  Traceback (most recent call last)",
      "\u001b[36mFile \u001b[39m\u001b[32m~\\AppData\\Local\\Programs\\Python\\Python313\\Lib\\site-packages\\pandas\\core\\indexes\\base.py:3812\u001b[39m, in \u001b[36mIndex.get_loc\u001b[39m\u001b[34m(self, key)\u001b[39m\n\u001b[32m   3811\u001b[39m \u001b[38;5;28;01mtry\u001b[39;00m:\n\u001b[32m-> \u001b[39m\u001b[32m3812\u001b[39m     \u001b[38;5;28;01mreturn\u001b[39;00m \u001b[38;5;28;43mself\u001b[39;49m\u001b[43m.\u001b[49m\u001b[43m_engine\u001b[49m\u001b[43m.\u001b[49m\u001b[43mget_loc\u001b[49m\u001b[43m(\u001b[49m\u001b[43mcasted_key\u001b[49m\u001b[43m)\u001b[49m\n\u001b[32m   3813\u001b[39m \u001b[38;5;28;01mexcept\u001b[39;00m \u001b[38;5;167;01mKeyError\u001b[39;00m \u001b[38;5;28;01mas\u001b[39;00m err:\n",
      "\u001b[36mFile \u001b[39m\u001b[32mpandas/_libs/index.pyx:167\u001b[39m, in \u001b[36mpandas._libs.index.IndexEngine.get_loc\u001b[39m\u001b[34m()\u001b[39m\n",
      "\u001b[36mFile \u001b[39m\u001b[32mpandas/_libs/index.pyx:196\u001b[39m, in \u001b[36mpandas._libs.index.IndexEngine.get_loc\u001b[39m\u001b[34m()\u001b[39m\n",
      "\u001b[36mFile \u001b[39m\u001b[32mpandas/_libs/hashtable_class_helper.pxi:7088\u001b[39m, in \u001b[36mpandas._libs.hashtable.PyObjectHashTable.get_item\u001b[39m\u001b[34m()\u001b[39m\n",
      "\u001b[36mFile \u001b[39m\u001b[32mpandas/_libs/hashtable_class_helper.pxi:7096\u001b[39m, in \u001b[36mpandas._libs.hashtable.PyObjectHashTable.get_item\u001b[39m\u001b[34m()\u001b[39m\n",
      "\u001b[31mKeyError\u001b[39m: 'Date'",
      "\nThe above exception was the direct cause of the following exception:\n",
      "\u001b[31mKeyError\u001b[39m                                  Traceback (most recent call last)",
      "\u001b[36mCell\u001b[39m\u001b[36m \u001b[39m\u001b[32mIn[8]\u001b[39m\u001b[32m, line 1\u001b[39m\n\u001b[32m----> \u001b[39m\u001b[32m1\u001b[39m df[\u001b[33m'\u001b[39m\u001b[33mDate\u001b[39m\u001b[33m'\u001b[39m] = pd.to_datetime(\u001b[43mdf\u001b[49m\u001b[43m[\u001b[49m\u001b[33;43m'\u001b[39;49m\u001b[33;43mDate\u001b[39;49m\u001b[33;43m'\u001b[39;49m\u001b[43m]\u001b[49m)\n",
      "\u001b[36mFile \u001b[39m\u001b[32m~\\AppData\\Local\\Programs\\Python\\Python313\\Lib\\site-packages\\pandas\\core\\frame.py:4107\u001b[39m, in \u001b[36mDataFrame.__getitem__\u001b[39m\u001b[34m(self, key)\u001b[39m\n\u001b[32m   4105\u001b[39m \u001b[38;5;28;01mif\u001b[39;00m \u001b[38;5;28mself\u001b[39m.columns.nlevels > \u001b[32m1\u001b[39m:\n\u001b[32m   4106\u001b[39m     \u001b[38;5;28;01mreturn\u001b[39;00m \u001b[38;5;28mself\u001b[39m._getitem_multilevel(key)\n\u001b[32m-> \u001b[39m\u001b[32m4107\u001b[39m indexer = \u001b[38;5;28;43mself\u001b[39;49m\u001b[43m.\u001b[49m\u001b[43mcolumns\u001b[49m\u001b[43m.\u001b[49m\u001b[43mget_loc\u001b[49m\u001b[43m(\u001b[49m\u001b[43mkey\u001b[49m\u001b[43m)\u001b[49m\n\u001b[32m   4108\u001b[39m \u001b[38;5;28;01mif\u001b[39;00m is_integer(indexer):\n\u001b[32m   4109\u001b[39m     indexer = [indexer]\n",
      "\u001b[36mFile \u001b[39m\u001b[32m~\\AppData\\Local\\Programs\\Python\\Python313\\Lib\\site-packages\\pandas\\core\\indexes\\base.py:3819\u001b[39m, in \u001b[36mIndex.get_loc\u001b[39m\u001b[34m(self, key)\u001b[39m\n\u001b[32m   3814\u001b[39m     \u001b[38;5;28;01mif\u001b[39;00m \u001b[38;5;28misinstance\u001b[39m(casted_key, \u001b[38;5;28mslice\u001b[39m) \u001b[38;5;129;01mor\u001b[39;00m (\n\u001b[32m   3815\u001b[39m         \u001b[38;5;28misinstance\u001b[39m(casted_key, abc.Iterable)\n\u001b[32m   3816\u001b[39m         \u001b[38;5;129;01mand\u001b[39;00m \u001b[38;5;28many\u001b[39m(\u001b[38;5;28misinstance\u001b[39m(x, \u001b[38;5;28mslice\u001b[39m) \u001b[38;5;28;01mfor\u001b[39;00m x \u001b[38;5;129;01min\u001b[39;00m casted_key)\n\u001b[32m   3817\u001b[39m     ):\n\u001b[32m   3818\u001b[39m         \u001b[38;5;28;01mraise\u001b[39;00m InvalidIndexError(key)\n\u001b[32m-> \u001b[39m\u001b[32m3819\u001b[39m     \u001b[38;5;28;01mraise\u001b[39;00m \u001b[38;5;167;01mKeyError\u001b[39;00m(key) \u001b[38;5;28;01mfrom\u001b[39;00m\u001b[38;5;250m \u001b[39m\u001b[34;01merr\u001b[39;00m\n\u001b[32m   3820\u001b[39m \u001b[38;5;28;01mexcept\u001b[39;00m \u001b[38;5;167;01mTypeError\u001b[39;00m:\n\u001b[32m   3821\u001b[39m     \u001b[38;5;66;03m# If we have a listlike key, _check_indexing_error will raise\u001b[39;00m\n\u001b[32m   3822\u001b[39m     \u001b[38;5;66;03m#  InvalidIndexError. Otherwise we fall through and re-raise\u001b[39;00m\n\u001b[32m   3823\u001b[39m     \u001b[38;5;66;03m#  the TypeError.\u001b[39;00m\n\u001b[32m   3824\u001b[39m     \u001b[38;5;28mself\u001b[39m._check_indexing_error(key)\n",
      "\u001b[31mKeyError\u001b[39m: 'Date'"
     ]
    }
   ],
   "source": [
    "df['Date'] = pd.to_datetime(df['Date'])\n"
   ]
  },
  {
   "cell_type": "code",
   "execution_count": 9,
   "id": "2dd20d4c-f963-4c01-aa00-a3772a82ec2f",
   "metadata": {},
   "outputs": [
    {
     "data": {
      "text/plain": [
       "Index(['Agent Performance Report', 'Unnamed: 1', 'Unnamed: 2', 'Unnamed: 3',\n",
       "       'Unnamed: 4', 'Unnamed: 5', 'Unnamed: 6', 'Unnamed: 7'],\n",
       "      dtype='object')"
      ]
     },
     "execution_count": 9,
     "metadata": {},
     "output_type": "execute_result"
    }
   ],
   "source": [
    "df.columns"
   ]
  },
  {
   "cell_type": "code",
   "execution_count": 10,
   "id": "86abbc9d-e3ef-42a2-9656-c71f8bc997eb",
   "metadata": {},
   "outputs": [],
   "source": [
    "df = pd.read_csv('Agent_Performance_Report.csv', skiprows=1)\n"
   ]
  },
  {
   "cell_type": "code",
   "execution_count": 11,
   "id": "9eba76c2-f56f-4f30-bc9a-b1078b513809",
   "metadata": {},
   "outputs": [
    {
     "data": {
      "text/plain": [
       "Index(['SL No', 'Date', 'Agent Name', 'Total Chats', 'Average Response Time',\n",
       "       'Average Resolution Time', 'Average Rating', 'Total Feedback'],\n",
       "      dtype='object')"
      ]
     },
     "execution_count": 11,
     "metadata": {},
     "output_type": "execute_result"
    }
   ],
   "source": [
    "df.columns"
   ]
  },
  {
   "cell_type": "code",
   "execution_count": 12,
   "id": "6c707b32-724e-44d0-9257-79978491b2f4",
   "metadata": {},
   "outputs": [],
   "source": [
    "df['Date'] = pd.to_datetime(df['Date'])\n",
    "df['Week'] = df['Date'].dt.isocalendar().week\n"
   ]
  },
  {
   "cell_type": "code",
   "execution_count": null,
   "id": "1f615417-b391-4881-b1d5-2250e6db5acb",
   "metadata": {},
   "outputs": [],
   "source": []
  },
  {
   "cell_type": "code",
   "execution_count": 16,
   "id": "db872401-c9a9-4219-8529-19dc45879b27",
   "metadata": {},
   "outputs": [],
   "source": [
    "weekly_avg = df.groupby('Week')['Average Rating'].mean()\n"
   ]
  },
  {
   "cell_type": "code",
   "execution_count": 17,
   "id": "bc918e89-a012-493a-9131-b64af41162f8",
   "metadata": {},
   "outputs": [
    {
     "data": {
      "text/plain": [
       "Week\n",
       "26    0.998704\n",
       "27    1.386647\n",
       "28    1.548492\n",
       "29    1.511389\n",
       "30    1.617847\n",
       "Name: Average Rating, dtype: float64"
      ]
     },
     "execution_count": 17,
     "metadata": {},
     "output_type": "execute_result"
    }
   ],
   "source": [
    "weekly_avg"
   ]
  },
  {
   "cell_type": "code",
   "execution_count": 14,
   "id": "48941e6c-c34a-4271-b407-a1719b800752",
   "metadata": {},
   "outputs": [
    {
     "data": {
      "text/plain": [
       "Index(['SL No', 'Date', 'Agent Name', 'Total Chats', 'Average Response Time',\n",
       "       'Average Resolution Time', 'Average Rating', 'Total Feedback', 'Week'],\n",
       "      dtype='object')"
      ]
     },
     "execution_count": 14,
     "metadata": {},
     "output_type": "execute_result"
    }
   ],
   "source": [
    "df.columns\n"
   ]
  },
  {
   "cell_type": "markdown",
   "id": "a7df1ee4-b6b5-43e8-8fc0-c2072c0498e0",
   "metadata": {},
   "source": [
    "2 .Total working days for each agents "
   ]
  },
  {
   "cell_type": "code",
   "execution_count": 18,
   "id": "ade0d6b2-5169-426c-ad14-10ee103b093b",
   "metadata": {},
   "outputs": [],
   "source": [
    "working_days = df.groupby('Agent Name')['Date'].nunique()"
   ]
  },
  {
   "cell_type": "code",
   "execution_count": 19,
   "id": "0fc4489c-376c-4eb3-b9d6-a8d87f52ea41",
   "metadata": {},
   "outputs": [
    {
     "data": {
      "text/plain": [
       "Agent Name\n",
       "Abhishek         30\n",
       "Aditya           30\n",
       "Aditya Shinde    30\n",
       "Aditya_iot       30\n",
       "Amersh           30\n",
       "                 ..\n",
       "Uday Mishra      30\n",
       "Vasanth P        30\n",
       "Vivek            30\n",
       "Wasim            30\n",
       "Zeeshan          30\n",
       "Name: Date, Length: 70, dtype: int64"
      ]
     },
     "execution_count": 19,
     "metadata": {},
     "output_type": "execute_result"
    }
   ],
   "source": [
    "working_days"
   ]
  },
  {
   "cell_type": "markdown",
   "id": "20cc1ad1-86e7-4294-b2f0-43921820a561",
   "metadata": {},
   "source": [
    "3. Total query that you hvae taken"
   ]
  },
  {
   "cell_type": "code",
   "execution_count": 20,
   "id": "6ef56768-75fe-406a-b4fa-81fd2913a18f",
   "metadata": {},
   "outputs": [],
   "source": [
    "total_queries = df['Total Chats'].sum()\n"
   ]
  },
  {
   "cell_type": "code",
   "execution_count": 21,
   "id": "b4e2f7b4-6f08-45ad-90a7-46f2863ee7f1",
   "metadata": {},
   "outputs": [
    {
     "data": {
      "text/plain": [
       "np.int64(14720)"
      ]
     },
     "execution_count": 21,
     "metadata": {},
     "output_type": "execute_result"
    }
   ],
   "source": [
    "total_queries"
   ]
  },
  {
   "cell_type": "markdown",
   "id": "781c46a9-c167-4498-9e7a-78e7de2cb2d1",
   "metadata": {},
   "source": [
    "5. total Feedback that you have received\n"
   ]
  },
  {
   "cell_type": "code",
   "execution_count": 26,
   "id": "18561ece-6062-4f0f-b0e8-7226a31cd14f",
   "metadata": {},
   "outputs": [
    {
     "data": {
      "text/plain": [
       "np.int64(9259)"
      ]
     },
     "execution_count": 26,
     "metadata": {},
     "output_type": "execute_result"
    }
   ],
   "source": [
    "df['Total Feedback'].sum()"
   ]
  },
  {
   "cell_type": "code",
   "execution_count": 23,
   "id": "959b2758-781f-4806-bac1-5e435f4038c8",
   "metadata": {},
   "outputs": [
    {
     "data": {
      "text/plain": [
       "Index(['SL No', 'Date', 'Agent Name', 'Total Chats', 'Average Response Time',\n",
       "       'Average Resolution Time', 'Average Rating', 'Total Feedback', 'Week'],\n",
       "      dtype='object')"
      ]
     },
     "execution_count": 23,
     "metadata": {},
     "output_type": "execute_result"
    }
   ],
   "source": [
    "df.columns"
   ]
  },
  {
   "cell_type": "markdown",
   "id": "d1061a93-7edd-4792-8fe9-95fd7a4cb7b0",
   "metadata": {},
   "source": [
    "6 . Agent name who have rating lesss then 3.5"
   ]
  },
  {
   "cell_type": "code",
   "execution_count": 32,
   "id": "6dea2654-2c80-4ccd-9a10-3562fbe93293",
   "metadata": {},
   "outputs": [
    {
     "name": "stdout",
     "output_type": "stream",
     "text": [
      "Agent Name\n",
      "Boktiar Ahmed Bappy    3.568000\n",
      "Ishawant Kumar         3.543333\n",
      "Khushboo Priya         3.703667\n",
      "Manjunatha A           3.594667\n",
      "Name: Average Rating, dtype: float64\n"
     ]
    }
   ],
   "source": [
    "agent_avg_rating = df.groupby('Agent Name')['Average Rating'].mean()\n",
    "print(agent_avg_rating[(agent_avg_rating >= 3.5) & (agent_avg_rating <= 4)])\n"
   ]
  },
  {
   "cell_type": "markdown",
   "id": "5874f2be-f945-455c-b772-fba4d14232db",
   "metadata": {},
   "source": [
    "7. Agents with rating less than 3.5\n",
    "\n",
    "\n"
   ]
  },
  {
   "cell_type": "code",
   "execution_count": 38,
   "id": "ef83e470-45bd-4670-a696-96a85cfc1fad",
   "metadata": {},
   "outputs": [],
   "source": [
    "agent_avg_rating = df.groupby('Agent Name')['Average Rating'].mean()\n"
   ]
  },
  {
   "cell_type": "code",
   "execution_count": 39,
   "id": "939cce47-ccbf-4863-9daf-8beb6b8a91ab",
   "metadata": {},
   "outputs": [
    {
     "data": {
      "text/plain": [
       "Agent Name\n",
       "Abhishek         0.000000\n",
       "Aditya           0.000000\n",
       "Aditya Shinde    1.800333\n",
       "Aditya_iot       2.345333\n",
       "Amersh           0.000000\n",
       "                   ...   \n",
       "Uday Mishra      0.000000\n",
       "Vasanth P        0.000000\n",
       "Vivek            0.500667\n",
       "Wasim            2.400000\n",
       "Zeeshan          2.287000\n",
       "Name: Average Rating, Length: 70, dtype: float64"
      ]
     },
     "execution_count": 39,
     "metadata": {},
     "output_type": "execute_result"
    }
   ],
   "source": [
    "agent_avg_rating"
   ]
  },
  {
   "cell_type": "code",
   "execution_count": 40,
   "id": "813c217b-1d23-4632-b83e-5714e311b5e3",
   "metadata": {},
   "outputs": [
    {
     "name": "stdout",
     "output_type": "stream",
     "text": [
      "Agent Name\n",
      "Abhishek         0.000000\n",
      "Aditya           0.000000\n",
      "Aditya Shinde    1.800333\n",
      "Aditya_iot       2.345333\n",
      "Amersh           0.000000\n",
      "                   ...   \n",
      "Uday Mishra      0.000000\n",
      "Vasanth P        0.000000\n",
      "Vivek            0.500667\n",
      "Wasim            2.400000\n",
      "Zeeshan          2.287000\n",
      "Name: Average Rating, Length: 65, dtype: float64\n"
     ]
    }
   ],
   "source": [
    "print(agent_avg_rating[agent_avg_rating < 3.5])\n"
   ]
  },
  {
   "cell_type": "markdown",
   "id": "d74fa1ae-930c-4efb-aec8-e336de240758",
   "metadata": {},
   "source": [
    "8. How many feedbacks with average rating > 4.5"
   ]
  },
  {
   "cell_type": "code",
   "execution_count": 43,
   "id": "a7343c18-9e09-434e-a016-3f87217b599e",
   "metadata": {},
   "outputs": [
    {
     "name": "stdout",
     "output_type": "stream",
     "text": [
      "Agent Name\n",
      "Aditya Shinde              73\n",
      "Aditya_iot                 43\n",
      "Ameya Jain                150\n",
      "Anirudh                     2\n",
      "Ankitjha                    1\n",
      "Aravind                   178\n",
      "Ayushi Mishra              75\n",
      "Bharath                   231\n",
      "Boktiar Ahmed Bappy        52\n",
      "Chaitra K Hiremath          5\n",
      "Deepranjan Gupta           83\n",
      "Harikrishnan Shaji         80\n",
      "Hrisikesh Neogi           183\n",
      "Ishawant Kumar             79\n",
      "Jawala Prakash             33\n",
      "Jayant Kumar                7\n",
      "Jaydeep Dixit             179\n",
      "Khushboo Priya            134\n",
      "Madhulika G                67\n",
      "Mahesh Sarade              46\n",
      "Maitry                     81\n",
      "Manjunatha A              132\n",
      "Mithun S                   93\n",
      "Mukesh                     17\n",
      "Mukesh Rao                  1\n",
      "Muskan Garg                14\n",
      "Nandani Gupta              91\n",
      "Nishtha Jain               18\n",
      "Prabir Kumar Satapathy     53\n",
      "Prateek _iot               54\n",
      "Prerna Singh               82\n",
      "Rishav Dash                27\n",
      "Saikumarreddy N           184\n",
      "Sandipan Saha               1\n",
      "Sanjeev Kumar             164\n",
      "Saurabh Shukla              3\n",
      "Shiva Srivastava            2\n",
      "Shivan K                  130\n",
      "Shivananda Sonwane        154\n",
      "Shubham Sharma            155\n",
      "Sowmiya Sivakumar          16\n",
      "Sudhanshu Kumar             2\n",
      "Suraj S Bilgi               4\n",
      "Swati                     103\n",
      "Vivek                       3\n",
      "Wasim                     156\n",
      "Zeeshan                    48\n",
      "Name: Total Feedback, dtype: int64\n"
     ]
    }
   ],
   "source": [
    "high_rating = df[df['Average Rating'] > 4.5]\n",
    "feedback_count = high_rating.groupby('Agent Name')['Total Feedback'].sum()\n",
    "print(feedback_count)\n",
    "\n"
   ]
  },
  {
   "cell_type": "markdown",
   "id": "1f4f8bce-cf7b-45b3-b5a9-2e9c71fd9b91",
   "metadata": {},
   "source": [
    "Q9. Average weekly response time (per agent)\n",
    "\n"
   ]
  },
  {
   "cell_type": "code",
   "execution_count": 48,
   "id": "7a223d3a-237f-498e-bd7e-ebcb711b7592",
   "metadata": {},
   "outputs": [
    {
     "name": "stdout",
     "output_type": "stream",
     "text": [
      "Agent Name  Week\n",
      "Abhishek    26      0.000000\n",
      "            27      0.000000\n",
      "            28      0.000000\n",
      "            29      0.000000\n",
      "            30      0.000000\n",
      "                      ...   \n",
      "Zeeshan     26      0.000000\n",
      "            27      0.392857\n",
      "            28      2.057143\n",
      "            29      1.047619\n",
      "            30      1.063889\n",
      "Name: Response Seconds, Length: 350, dtype: float64\n"
     ]
    }
   ],
   "source": [
    "df['Average Response Time'] = pd.to_timedelta(df['Average Response Time'])\n",
    "\n",
    "df['Response Seconds'] = df['Average Response Time'].dt.total_seconds()\n",
    "\n",
    "df['Date'] = pd.to_datetime(df['Date'])  # or replace with correct column like 'Chat Date'\n",
    "df['Week'] = df['Date'].dt.isocalendar().week\n",
    "\n",
    "weekly_avg_response = df.groupby(['Agent Name', 'Week'])['Response Seconds'].mean()\n",
    "weekly_avg_response_minutes = weekly_avg_response / 60\n",
    "print(weekly_avg_response_minutes)\n"
   ]
  },
  {
   "cell_type": "markdown",
   "id": "978a4ee9-a8a5-4dba-a7e1-cae1aa78d0dc",
   "metadata": {},
   "source": [
    "Q10. Average weekly resolution time (per agent)"
   ]
  },
  {
   "cell_type": "code",
   "execution_count": 50,
   "id": "7ae3fa6d-0438-4c37-8fd2-f03185f6cda7",
   "metadata": {},
   "outputs": [
    {
     "data": {
      "text/plain": [
       "Index(['SL No', 'Date', 'Agent Name', 'Total Chats', 'Average Response Time',\n",
       "       'Average Resolution Time', 'Average Rating', 'Total Feedback', 'Week',\n",
       "       'Response Seconds'],\n",
       "      dtype='object')"
      ]
     },
     "execution_count": 50,
     "metadata": {},
     "output_type": "execute_result"
    }
   ],
   "source": [
    "df.columns"
   ]
  },
  {
   "cell_type": "code",
   "execution_count": 53,
   "id": "a8533efc-35bc-45b1-bc7f-c28c89ddbacd",
   "metadata": {},
   "outputs": [
    {
     "data": {
      "text/plain": [
       "<TimedeltaArray>\n",
       "['0 days 00:00:38', '0 days 00:01:15', '0 days 00:00:30', '0 days 00:01:04',\n",
       " '0 days 00:01:11', '0 days 00:00:34', '0 days 00:00:31', '0 days 00:00:55',\n",
       " '0 days 00:01:31', '0 days 00:00:59',\n",
       " ...\n",
       " '0 days 00:06:43', '0 days 00:02:47', '0 days 00:01:50', '0 days 00:02:18',\n",
       " '0 days 00:04:09', '0 days 00:02:01', '0 days 00:03:46', '0 days 00:02:14',\n",
       " '0 days 00:02:03', '0 days 00:02:45']\n",
       "Length: 144, dtype: timedelta64[ns]"
      ]
     },
     "execution_count": 53,
     "metadata": {},
     "output_type": "execute_result"
    }
   ],
   "source": [
    "df['Average Response Time'].unique()\n"
   ]
  },
  {
   "cell_type": "code",
   "execution_count": 55,
   "id": "b9300bd0-5593-4ec8-93fe-b5770c71f664",
   "metadata": {},
   "outputs": [
    {
     "ename": "AttributeError",
     "evalue": "Can only use .str accessor with string values!",
     "output_type": "error",
     "traceback": [
      "\u001b[31m---------------------------------------------------------------------------\u001b[39m",
      "\u001b[31mAttributeError\u001b[39m                            Traceback (most recent call last)",
      "\u001b[36mCell\u001b[39m\u001b[36m \u001b[39m\u001b[32mIn[55]\u001b[39m\u001b[32m, line 1\u001b[39m\n\u001b[32m----> \u001b[39m\u001b[32m1\u001b[39m df = df[\u001b[43mdf\u001b[49m\u001b[43m[\u001b[49m\u001b[33;43m'\u001b[39;49m\u001b[33;43mAverage Response Time\u001b[39;49m\u001b[33;43m'\u001b[39;49m\u001b[43m]\u001b[49m\u001b[43m.\u001b[49m\u001b[43mstr\u001b[49m.count(\u001b[33m'\u001b[39m\u001b[33m:\u001b[39m\u001b[33m'\u001b[39m) == \u001b[32m2\u001b[39m]\n",
      "\u001b[36mFile \u001b[39m\u001b[32m~\\AppData\\Local\\Programs\\Python\\Python313\\Lib\\site-packages\\pandas\\core\\generic.py:6318\u001b[39m, in \u001b[36mNDFrame.__getattr__\u001b[39m\u001b[34m(self, name)\u001b[39m\n\u001b[32m   6311\u001b[39m \u001b[38;5;28;01mif\u001b[39;00m (\n\u001b[32m   6312\u001b[39m     name \u001b[38;5;129;01mnot\u001b[39;00m \u001b[38;5;129;01min\u001b[39;00m \u001b[38;5;28mself\u001b[39m._internal_names_set\n\u001b[32m   6313\u001b[39m     \u001b[38;5;129;01mand\u001b[39;00m name \u001b[38;5;129;01mnot\u001b[39;00m \u001b[38;5;129;01min\u001b[39;00m \u001b[38;5;28mself\u001b[39m._metadata\n\u001b[32m   6314\u001b[39m     \u001b[38;5;129;01mand\u001b[39;00m name \u001b[38;5;129;01mnot\u001b[39;00m \u001b[38;5;129;01min\u001b[39;00m \u001b[38;5;28mself\u001b[39m._accessors\n\u001b[32m   6315\u001b[39m     \u001b[38;5;129;01mand\u001b[39;00m \u001b[38;5;28mself\u001b[39m._info_axis._can_hold_identifiers_and_holds_name(name)\n\u001b[32m   6316\u001b[39m ):\n\u001b[32m   6317\u001b[39m     \u001b[38;5;28;01mreturn\u001b[39;00m \u001b[38;5;28mself\u001b[39m[name]\n\u001b[32m-> \u001b[39m\u001b[32m6318\u001b[39m \u001b[38;5;28;01mreturn\u001b[39;00m \u001b[38;5;28;43mobject\u001b[39;49m\u001b[43m.\u001b[49m\u001b[34;43m__getattribute__\u001b[39;49m\u001b[43m(\u001b[49m\u001b[38;5;28;43mself\u001b[39;49m\u001b[43m,\u001b[49m\u001b[43m \u001b[49m\u001b[43mname\u001b[49m\u001b[43m)\u001b[49m\n",
      "\u001b[36mFile \u001b[39m\u001b[32m~\\AppData\\Local\\Programs\\Python\\Python313\\Lib\\site-packages\\pandas\\core\\accessor.py:224\u001b[39m, in \u001b[36mCachedAccessor.__get__\u001b[39m\u001b[34m(self, obj, cls)\u001b[39m\n\u001b[32m    221\u001b[39m \u001b[38;5;28;01mif\u001b[39;00m obj \u001b[38;5;129;01mis\u001b[39;00m \u001b[38;5;28;01mNone\u001b[39;00m:\n\u001b[32m    222\u001b[39m     \u001b[38;5;66;03m# we're accessing the attribute of the class, i.e., Dataset.geo\u001b[39;00m\n\u001b[32m    223\u001b[39m     \u001b[38;5;28;01mreturn\u001b[39;00m \u001b[38;5;28mself\u001b[39m._accessor\n\u001b[32m--> \u001b[39m\u001b[32m224\u001b[39m accessor_obj = \u001b[38;5;28;43mself\u001b[39;49m\u001b[43m.\u001b[49m\u001b[43m_accessor\u001b[49m\u001b[43m(\u001b[49m\u001b[43mobj\u001b[49m\u001b[43m)\u001b[49m\n\u001b[32m    225\u001b[39m \u001b[38;5;66;03m# Replace the property with the accessor object. Inspired by:\u001b[39;00m\n\u001b[32m    226\u001b[39m \u001b[38;5;66;03m# https://www.pydanny.com/cached-property.html\u001b[39;00m\n\u001b[32m    227\u001b[39m \u001b[38;5;66;03m# We need to use object.__setattr__ because we overwrite __setattr__ on\u001b[39;00m\n\u001b[32m    228\u001b[39m \u001b[38;5;66;03m# NDFrame\u001b[39;00m\n\u001b[32m    229\u001b[39m \u001b[38;5;28mobject\u001b[39m.\u001b[34m__setattr__\u001b[39m(obj, \u001b[38;5;28mself\u001b[39m._name, accessor_obj)\n",
      "\u001b[36mFile \u001b[39m\u001b[32m~\\AppData\\Local\\Programs\\Python\\Python313\\Lib\\site-packages\\pandas\\core\\strings\\accessor.py:194\u001b[39m, in \u001b[36mStringMethods.__init__\u001b[39m\u001b[34m(self, data)\u001b[39m\n\u001b[32m    191\u001b[39m \u001b[38;5;28;01mdef\u001b[39;00m\u001b[38;5;250m \u001b[39m\u001b[34m__init__\u001b[39m(\u001b[38;5;28mself\u001b[39m, data) -> \u001b[38;5;28;01mNone\u001b[39;00m:\n\u001b[32m    192\u001b[39m     \u001b[38;5;28;01mfrom\u001b[39;00m\u001b[38;5;250m \u001b[39m\u001b[34;01mpandas\u001b[39;00m\u001b[34;01m.\u001b[39;00m\u001b[34;01mcore\u001b[39;00m\u001b[34;01m.\u001b[39;00m\u001b[34;01marrays\u001b[39;00m\u001b[34;01m.\u001b[39;00m\u001b[34;01mstring_\u001b[39;00m\u001b[38;5;250m \u001b[39m\u001b[38;5;28;01mimport\u001b[39;00m StringDtype\n\u001b[32m--> \u001b[39m\u001b[32m194\u001b[39m     \u001b[38;5;28mself\u001b[39m._inferred_dtype = \u001b[38;5;28;43mself\u001b[39;49m\u001b[43m.\u001b[49m\u001b[43m_validate\u001b[49m\u001b[43m(\u001b[49m\u001b[43mdata\u001b[49m\u001b[43m)\u001b[49m\n\u001b[32m    195\u001b[39m     \u001b[38;5;28mself\u001b[39m._is_categorical = \u001b[38;5;28misinstance\u001b[39m(data.dtype, CategoricalDtype)\n\u001b[32m    196\u001b[39m     \u001b[38;5;28mself\u001b[39m._is_string = \u001b[38;5;28misinstance\u001b[39m(data.dtype, StringDtype)\n",
      "\u001b[36mFile \u001b[39m\u001b[32m~\\AppData\\Local\\Programs\\Python\\Python313\\Lib\\site-packages\\pandas\\core\\strings\\accessor.py:248\u001b[39m, in \u001b[36mStringMethods._validate\u001b[39m\u001b[34m(data)\u001b[39m\n\u001b[32m    245\u001b[39m inferred_dtype = lib.infer_dtype(values, skipna=\u001b[38;5;28;01mTrue\u001b[39;00m)\n\u001b[32m    247\u001b[39m \u001b[38;5;28;01mif\u001b[39;00m inferred_dtype \u001b[38;5;129;01mnot\u001b[39;00m \u001b[38;5;129;01min\u001b[39;00m allowed_types:\n\u001b[32m--> \u001b[39m\u001b[32m248\u001b[39m     \u001b[38;5;28;01mraise\u001b[39;00m \u001b[38;5;167;01mAttributeError\u001b[39;00m(\u001b[33m\"\u001b[39m\u001b[33mCan only use .str accessor with string values!\u001b[39m\u001b[33m\"\u001b[39m)\n\u001b[32m    249\u001b[39m \u001b[38;5;28;01mreturn\u001b[39;00m inferred_dtype\n",
      "\u001b[31mAttributeError\u001b[39m: Can only use .str accessor with string values!"
     ]
    }
   ],
   "source": [
    "df = df[df['Average Response Time'].str.count(':') == 2]"
   ]
  },
  {
   "cell_type": "code",
   "execution_count": 56,
   "id": "6a7c01bd-a7b2-4c52-9aef-ab633ee4ca07",
   "metadata": {},
   "outputs": [],
   "source": [
    "df['Average Response Time'] = df['Average Response Time'].astype(str)\n"
   ]
  },
  {
   "cell_type": "code",
   "execution_count": 57,
   "id": "464c833e-429c-4538-a329-d38aedc1ebc9",
   "metadata": {},
   "outputs": [],
   "source": [
    "df = df[df['Average Response Time'].str.count(':') == 2]\n"
   ]
  },
  {
   "cell_type": "code",
   "execution_count": null,
   "id": "f68513dd-666f-4f13-8edd-8df4231c83ec",
   "metadata": {},
   "outputs": [],
   "source": []
  }
 ],
 "metadata": {
  "kernelspec": {
   "display_name": "Python 3 (ipykernel)",
   "language": "python",
   "name": "python3"
  },
  "language_info": {
   "codemirror_mode": {
    "name": "ipython",
    "version": 3
   },
   "file_extension": ".py",
   "mimetype": "text/x-python",
   "name": "python",
   "nbconvert_exporter": "python",
   "pygments_lexer": "ipython3",
   "version": "3.13.5"
  }
 },
 "nbformat": 4,
 "nbformat_minor": 5
}
