{
 "cells": [
  {
   "cell_type": "code",
   "execution_count": 2,
   "id": "fdaa26e2-338a-4e0b-9e99-382e62eb61fd",
   "metadata": {},
   "outputs": [
    {
     "name": "stdout",
     "output_type": "stream",
     "text": [
      "this is My First Python programming class and i am learNING python string and its function\n"
     ]
    }
   ],
   "source": [
    "#example string\n",
    "s = \"this is My First Python programming class and i am learNING python string and its function\"\n",
    "print(s)"
   ]
  },
  {
   "cell_type": "code",
   "execution_count": 3,
   "id": "faea0bbd-d6cc-4df2-aa4b-9eda0d19c6e8",
   "metadata": {},
   "outputs": [
    {
     "name": "stdout",
     "output_type": "stream",
     "text": [
      "tssyityopgmncsa alrNph rgni ni\n"
     ]
    }
   ],
   "source": [
    "#1  extract data from idex\n",
    "print(s[0:300:3])"
   ]
  },
  {
   "cell_type": "code",
   "execution_count": 4,
   "id": "25c6db44-acfe-4240-98e5-3109c71494e7",
   "metadata": {},
   "outputs": [
    {
     "data": {
      "text/plain": [
       "'noitcnuf sti dna gnirts nohtyp GNINrael ma i dna ssalc gnimmargorp nohtyP tsriF yM si siht'"
      ]
     },
     "execution_count": 4,
     "metadata": {},
     "output_type": "execute_result"
    }
   ],
   "source": [
    "#2 reverse a string\n",
    "s[::-1]"
   ]
  },
  {
   "cell_type": "code",
   "execution_count": 9,
   "id": "4ca4ab1b-689d-4cd1-a780-0df1ab584226",
   "metadata": {},
   "outputs": [
    {
     "name": "stdout",
     "output_type": "stream",
     "text": [
      "this is My First Python programming class and i am learNING python string and its function\n"
     ]
    }
   ],
   "source": [
    "print(s)"
   ]
  },
  {
   "cell_type": "code",
   "execution_count": 33,
   "id": "ad52e507-7fd6-450b-8d63-af85855892ce",
   "metadata": {},
   "outputs": [
    {
     "name": "stdout",
     "output_type": "stream",
     "text": [
      "this is My First Python programming class and i am learNING python string and its function\n"
     ]
    }
   ],
   "source": [
    "# 3 split and and convert string into upper\n",
    "s = \"this is My First Python programming class and i am learNING python string and its function\"\n",
    "print(s)"
   ]
  },
  {
   "cell_type": "code",
   "execution_count": 34,
   "id": "6ef8dafd-d672-4854-b92c-f2adc768e24f",
   "metadata": {},
   "outputs": [
    {
     "name": "stdout",
     "output_type": "stream",
     "text": [
      "THIS IS MY FIRST PYTHON PROGRAMMING CLASS AND I AM LEARNING PYTHON STRING AND ITS FUNCTION\n"
     ]
    }
   ],
   "source": [
    "print(s.upper())\n",
    "\n"
   ]
  },
  {
   "cell_type": "code",
   "execution_count": 36,
   "id": "c3ceaf81-250c-44df-8925-105700791aed",
   "metadata": {},
   "outputs": [
    {
     "name": "stdout",
     "output_type": "stream",
     "text": [
      "['this', 'is', 'My', 'First', 'Python', 'programming', 'class', 'and', 'i', 'am', 'learNING', 'python', 'string', 'and', 'its', 'function']\n",
      "this is My First Python programming class and i am learNING python string and its function\n"
     ]
    }
   ],
   "source": [
    "print( s.split() )\n",
    "print(s)"
   ]
  },
  {
   "cell_type": "code",
   "execution_count": 37,
   "id": "aa9543bd-e0d0-41e6-8b0a-01b042e95892",
   "metadata": {},
   "outputs": [
    {
     "name": "stdout",
     "output_type": "stream",
     "text": [
      "['THIS', 'IS', 'MY', 'FIRST', 'PYTHON', 'PROGRAMMING', 'CLASS', 'AND', 'I', 'AM', 'LEARNING', 'PYTHON', 'STRING', 'AND', 'ITS', 'FUNCTION']\n"
     ]
    }
   ],
   "source": [
    "print(s.upper().split())"
   ]
  },
  {
   "cell_type": "code",
   "execution_count": 38,
   "id": "bbdda6c4-6b37-4518-937f-b749a6dbb5c8",
   "metadata": {},
   "outputs": [
    {
     "data": {
      "text/plain": [
       "'this is My First Python programming class and i am learNING python string and its function'"
      ]
     },
     "execution_count": 38,
     "metadata": {},
     "output_type": "execute_result"
    }
   ],
   "source": [
    "s"
   ]
  },
  {
   "cell_type": "code",
   "execution_count": 39,
   "id": "7c39bec7-4b4f-48b1-bd65-5479cb9fb4db",
   "metadata": {},
   "outputs": [
    {
     "data": {
      "text/plain": [
       "'this is my first python programming class and i am learning python string and its function'"
      ]
     },
     "execution_count": 39,
     "metadata": {},
     "output_type": "execute_result"
    }
   ],
   "source": [
    "#4 covert lowercase\n",
    "s.lower()"
   ]
  },
  {
   "cell_type": "code",
   "execution_count": 40,
   "id": "3f0c02e7-d3a0-4816-b354-b788995c2a5b",
   "metadata": {},
   "outputs": [
    {
     "name": "stdout",
     "output_type": "stream",
     "text": [
      "This is my first python programming class and i am learning python string and its function\n"
     ]
    }
   ],
   "source": [
    "#5 capitalize the string\n",
    "print(s.capitalize())"
   ]
  },
  {
   "cell_type": "code",
   "execution_count": 1,
   "id": "a35e3bdb-bb89-46d1-9f73-754597c72961",
   "metadata": {},
   "outputs": [
    {
     "data": {
      "text/plain": [
       "True"
      ]
     },
     "execution_count": 1,
     "metadata": {},
     "output_type": "execute_result"
    }
   ],
   "source": [
    "s1 = '315'\n",
    "s1.isalnum()"
   ]
  },
  {
   "cell_type": "code",
   "execution_count": 2,
   "id": "562038a7-337f-4551-a44a-ef8b1826006c",
   "metadata": {},
   "outputs": [
    {
     "data": {
      "text/plain": [
       "False"
      ]
     },
     "execution_count": 2,
     "metadata": {},
     "output_type": "execute_result"
    }
   ],
   "source": [
    "s2 = 'fhj57ghe9ofg'\n",
    "s2.isalpha()"
   ]
  },
  {
   "cell_type": "code",
   "execution_count": 4,
   "id": "754df581-3cf2-4b29-9709-721837a41959",
   "metadata": {},
   "outputs": [
    {
     "data": {
      "text/plain": [
       "True"
      ]
     },
     "execution_count": 4,
     "metadata": {},
     "output_type": "execute_result"
    }
   ],
   "source": [
    "s3 = 'keziya'\n",
    "s3.isalpha()"
   ]
  },
  {
   "cell_type": "code",
   "execution_count": null,
   "id": "c413546e-8da2-42df-a93b-7220b4d755d7",
   "metadata": {},
   "outputs": [],
   "source": [
    "#6 Write a diference between isalnum() and isalpha()?\n",
    "ans: the differnce betwwen isalnum() and isalpha() is \n",
    "isalnum() = Returns True if the string has only letters and numbers\n",
    "isalpha() = Returns True if the string has only letters\n"
   ]
  },
  {
   "cell_type": "code",
   "execution_count": 44,
   "id": "328780b2-f041-444a-94a8-14ed97d75c8b",
   "metadata": {},
   "outputs": [
    {
     "data": {
      "text/plain": [
       "'keziya  rani    yepuri'"
      ]
     },
     "execution_count": 44,
     "metadata": {},
     "output_type": "execute_result"
    }
   ],
   "source": [
    "#7 expand tab\n",
    "s=\"keziya\\trani\\tyepuri\" #here \\t is used to get space betwwen word \n",
    "s.expandtabs() # in ouput it \\t replace with space "
   ]
  },
  {
   "cell_type": "code",
   "execution_count": 52,
   "id": "779be87b-92cb-4141-a8ad-84c7146d48ae",
   "metadata": {},
   "outputs": [
    {
     "data": {
      "text/plain": [
       "'keziya yepuri'"
      ]
     },
     "execution_count": 52,
     "metadata": {},
     "output_type": "execute_result"
    }
   ],
   "source": [
    "#8 strip,lstrip,rstrip\n",
    "s = \"  keziya yepuri  \"\n",
    "s.strip() #it removes space from left and right of the string \n"
   ]
  },
  {
   "cell_type": "code",
   "execution_count": 53,
   "id": "fad84e42-b789-4032-b30b-e66c57c509e4",
   "metadata": {},
   "outputs": [
    {
     "data": {
      "text/plain": [
       "'keziya yepuri  '"
      ]
     },
     "execution_count": 53,
     "metadata": {},
     "output_type": "execute_result"
    }
   ],
   "source": [
    "s = \"  keziya yepuri  \"\n",
    "s.lstrip() #remove left side of space but not in right"
   ]
  },
  {
   "cell_type": "code",
   "execution_count": 54,
   "id": "cad98d80-5116-4031-b037-a9edfefff3b7",
   "metadata": {},
   "outputs": [
    {
     "data": {
      "text/plain": [
       "'  keziya yepuri'"
      ]
     },
     "execution_count": 54,
     "metadata": {},
     "output_type": "execute_result"
    }
   ],
   "source": [
    "s.rstrip() #removes right side of space but not in left"
   ]
  },
  {
   "cell_type": "code",
   "execution_count": 57,
   "id": "350c66b4-f60e-4187-8d0f-a1da2c2f6c41",
   "metadata": {},
   "outputs": [
    {
     "name": "stdout",
     "output_type": "stream",
     "text": [
      "aimnxt\n"
     ]
    }
   ],
   "source": [
    "#9 performing replace function\n",
    "s = \"aimnxt\"\n",
    "print(s)\n"
   ]
  },
  {
   "cell_type": "code",
   "execution_count": 58,
   "id": "9598875d-6c16-4a0a-bfa1-8f695bcf6f71",
   "metadata": {},
   "outputs": [
    {
     "data": {
      "text/plain": [
       "'aimnxy'"
      ]
     },
     "execution_count": 58,
     "metadata": {},
     "output_type": "execute_result"
    }
   ],
   "source": [
    "s.replace('t','y') #here t replace with y"
   ]
  },
  {
   "cell_type": "code",
   "execution_count": 61,
   "id": "b28f4359-cd6b-459a-b22d-5c5e5fd89cf5",
   "metadata": {},
   "outputs": [
    {
     "name": "stdout",
     "output_type": "stream",
     "text": [
      " aimnext  \n"
     ]
    }
   ],
   "source": [
    "#10 def center method is used to put a string in middle of space \n",
    "s = \"aimnext\"\n",
    "print(s.center(10))\n"
   ]
  },
  {
   "cell_type": "code",
   "execution_count": null,
   "id": "9d729e7e-e86d-4ced-b6d0-66330b0311ff",
   "metadata": {},
   "outputs": [],
   "source": [
    "#11 ans\n",
    "compiler is used to transulate the high level language into machine language at once \n",
    "interpretor is used to  transulate and run the code in line by line it is slower than compiler\n"
   ]
  },
  {
   "cell_type": "code",
   "execution_count": null,
   "id": "aa13d469-3423-401d-8c87-144b5b4e0de2",
   "metadata": {},
   "outputs": [],
   "source": [
    "#12 ans\n",
    "Python is a interpreted and the python runs the code in line by line\n",
    "and it is easy to test and debug in Python"
   ]
  },
  {
   "cell_type": "code",
   "execution_count": null,
   "id": "ef3c92af-9db7-42c2-b926-f58170d22e4b",
   "metadata": {},
   "outputs": [],
   "source": [
    "#13 ans\n",
    "python is used in data science to visualize and find insights from large dataset using charts and graphs "
   ]
  }
 ],
 "metadata": {
  "kernelspec": {
   "display_name": "Python [conda env:base] *",
   "language": "python",
   "name": "conda-base-py"
  },
  "language_info": {
   "codemirror_mode": {
    "name": "ipython",
    "version": 3
   },
   "file_extension": ".py",
   "mimetype": "text/x-python",
   "name": "python",
   "nbconvert_exporter": "python",
   "pygments_lexer": "ipython3",
   "version": "3.13.5"
  }
 },
 "nbformat": 4,
 "nbformat_minor": 5
}
