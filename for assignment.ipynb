{
 "cells": [
  {
   "cell_type": "code",
   "execution_count": 5,
   "id": "b44015ec-7e0d-4eb7-b9e3-f2aa809c4749",
   "metadata": {},
   "outputs": [
    {
     "name": "stdout",
     "output_type": "stream",
     "text": [
      "[12.5, 23.0, 56.78]\n"
     ]
    }
   ],
   "source": [
    "#1. Filter Floats from a List\n",
    "#Write a program that extracts all the floating-point numbers from a list containing mixed data types. The program should create a new list containing only the floats.\n",
    "\n",
    "l = [12.5, 45, \"hello\", 23.0, 56.78, 90, \"world\"]\n",
    "l1=[]\n",
    "for i in l:\n",
    "    if type(i)==float:\n",
    "        l1.append(i)\n",
    "print(l1)"
   ]
  },
  {
   "cell_type": "code",
   "execution_count": 6,
   "id": "9007c493-2a9a-4684-99d6-739151f5595a",
   "metadata": {},
   "outputs": [
    {
     "name": "stdout",
     "output_type": "stream",
     "text": [
      "['Python', 'Coding', 'AI']\n"
     ]
    }
   ],
   "source": [
    "#2. Filter Strings from a List\n",
    "#Write a program to extract all the string elements from a mixed list and store them in a new list.\n",
    "l = [1, \"Python\", 3.14, \"Coding\", 42, \"AI\"]\n",
    "l1=[]\n",
    "for i in l:\n",
    "    if type(i)==str:\n",
    "        l1.append(i)\n",
    "print(l1)"
   ]
  },
  {
   "cell_type": "code",
   "execution_count": 11,
   "id": "dde0457e-d352-490a-b886-552d5da1bd20",
   "metadata": {},
   "outputs": [
    {
     "name": "stdout",
     "output_type": "stream",
     "text": [
      "['data', 4.5, True, None]\n"
     ]
    }
   ],
   "source": [
    "#3. Filter Non-Integers from a List\n",
    "#Write a program to create a new list that contains all elements from a given list except for integers.\n",
    "l = [1, 2, 3, \"data\", 4.5, True, None]\n",
    "l1=[]\n",
    "for i in l:\n",
    "    if type(i)!=int:\n",
    "        l1.append(i)\n",
    "print(l1)\n",
    "                                                                                 \n",
    "                                                                                 \n",
    "                                                                                 \n",
    "                                                                                 "
   ]
  },
  {
   "cell_type": "code",
   "execution_count": 12,
   "id": "983618e1-cf65-40ed-ab0e-6965c8fe5b72",
   "metadata": {},
   "outputs": [
    {
     "name": "stdout",
     "output_type": "stream",
     "text": [
      "[True, False]\n"
     ]
    }
   ],
   "source": [
    "#4. Filter Boolean Values from a List\n",
    "#Write a program to extract all the boolean values (True or False) from a mixed list.\n",
    "l = [True, 42, \"yes\", False, 3.14, \"AI\"]\n",
    "l1=[]\n",
    "for i in l:\n",
    "    if type(i)==bool:\n",
    "        l1.append(i)\n",
    "print(l1)"
   ]
  },
  {
   "cell_type": "code",
   "execution_count": 17,
   "id": "8f53294f-97c5-4ad4-afce-ab8c0d9557dc",
   "metadata": {},
   "outputs": [
    {
     "name": "stdout",
     "output_type": "stream",
     "text": [
      "[2, 4, 6]\n"
     ]
    }
   ],
   "source": [
    "#5. Filter Even Integers from a List\n",
    "#Write a program that filters only the even integers from a mixed list and stores them in a new list.\n",
    "l = [1, 2, 3, 4, 5, 6, \"even\", 7.8]\n",
    "l1=[]\n",
    "for i in l:\n",
    "    if type(i)==int and i % 2 == 0:\n",
    "        l1.append(i)\n",
    "print(l1)"
   ]
  },
  {
   "cell_type": "code",
   "execution_count": 19,
   "id": "51a1c8f7-17b4-4d83-898f-5ddc2aac7739",
   "metadata": {},
   "outputs": [
    {
     "name": "stdout",
     "output_type": "stream",
     "text": [
      "[21, 43, 65]\n"
     ]
    }
   ],
   "source": [
    "#6. Filter Odd Integers from a List\n",
    "#Write a program that extracts only the odd integers from a mixed list into a new list.\n",
    "l = [10, 21, 32, 43, \"odd\", 54, 65]\n",
    "l1=[]\n",
    "for i in l:\n",
    "    if type(i)==int and i % 2==1:\n",
    "        l1.append(i)\n",
    "print(l1)\n"
   ]
  },
  {
   "cell_type": "code",
   "execution_count": 22,
   "id": "2b6b7a94-1cd0-4365-b128-6aa205dd18fc",
   "metadata": {},
   "outputs": [
    {
     "name": "stdout",
     "output_type": "stream",
     "text": [
      "['apple', 'hello']\n"
     ]
    }
   ],
   "source": [
    "#7. Filter Elements of a Specific Length\n",
    "#Write a program to filter all string elements with a length greater than 4 characters from a mixed list.\n",
    "l = [\"apple\", \"AI\", 123, \"data\", \"hello\", 3.14]\n",
    "l1=[]\n",
    "for i in l:\n",
    "    if type(i)==str and len(i)>4:\n",
    "        l1.append(i)\n",
    "print(l1)\n",
    "    \n",
    "    "
   ]
  },
  {
   "cell_type": "code",
   "execution_count": 25,
   "id": "5cea02c1-ae46-4848-a06d-8fa9dec5aae9",
   "metadata": {},
   "outputs": [
    {
     "name": "stdout",
     "output_type": "stream",
     "text": [
      "[1, 'Python', 45.6, 'data']\n"
     ]
    }
   ],
   "source": [
    "#8. Filter None Values\n",
    "#Write a program to remove all None values from a mixed list and store the remaining elements in a new list.\n",
    "l = [1, None, \"Python\", None, 45.6, \"data\"]\n",
    "l1=[]\n",
    "for i in l:\n",
    "    if i is not None:\n",
    "        l1.append(i)\n",
    "print(l1)"
   ]
  },
  {
   "cell_type": "code",
   "execution_count": 28,
   "id": "eb0a1b8c-49ee-47f1-8d9d-684933acb01c",
   "metadata": {},
   "outputs": [
    {
     "name": "stdout",
     "output_type": "stream",
     "text": [
      "['AI', 'world']\n"
     ]
    }
   ],
   "source": [
    "#9. Filter Alphabetic Strings Only\n",
    "#Write a program that extracts only alphabetic strings (strings without numbers or special characters) from a mixed list.\n",
    "l = [\"AI\", \"Data123\", \"hello!\", \"world\", 42, \"Python3\"]\n",
    "l1=[]\n",
    "for i in l:\n",
    "    if type(i)==str and i.isalpha():\n",
    "        l1.append(i)\n",
    "print(l1)"
   ]
  },
  {
   "cell_type": "code",
   "execution_count": 30,
   "id": "68df1c19-9910-4b5f-bf98-dcd9d49ee8f0",
   "metadata": {},
   "outputs": [
    {
     "name": "stdin",
     "output_type": "stream",
     "text": [
      "Enter data type (int, float, str):  float\n"
     ]
    },
    {
     "name": "stdout",
     "output_type": "stream",
     "text": [
      "[2.5, 4.0]\n"
     ]
    }
   ],
   "source": [
    "\n",
    "#10. Filter Elements of Specific Data Type\n",
    "#Write a program that asks the user to input a data type (e.g., int, float, str) and filters elements of that type from a given mixed lis\n",
    "\n",
    "l = [1, 2.5, \"hello\", 3, 4.0, \"world\"]\n",
    "l1 = []\n",
    "dtype = input(\"Enter data type (int, float, str): \")\n",
    "if dtype == \"int\":\n",
    "    datatype = int\n",
    "elif dtype == \"float\":\n",
    "    datatype = float\n",
    "elif dtype == \"str\":\n",
    "    datatype = str\n",
    "else:\n",
    "    print(\"Invalid data type entered.\")\n",
    "    datatype = None\n",
    "\n",
    "# Filter only if a valid type was entered\n",
    "if datatype:\n",
    "    for i in l:\n",
    "        if type(i) == datatype:\n",
    "            l1.append(i)\n",
    "    print( l1)\n",
    "\n"
   ]
  },
  {
   "cell_type": "code",
   "execution_count": null,
   "id": "bcee391e-a48e-41c1-a1b6-349fdc656174",
   "metadata": {},
   "outputs": [],
   "source": []
  }
 ],
 "metadata": {
  "kernelspec": {
   "display_name": "Python [conda env:base] *",
   "language": "python",
   "name": "conda-base-py"
  },
  "language_info": {
   "codemirror_mode": {
    "name": "ipython",
    "version": 3
   },
   "file_extension": ".py",
   "mimetype": "text/x-python",
   "name": "python",
   "nbconvert_exporter": "python",
   "pygments_lexer": "ipython3",
   "version": "3.13.5"
  }
 },
 "nbformat": 4,
 "nbformat_minor": 5
}
