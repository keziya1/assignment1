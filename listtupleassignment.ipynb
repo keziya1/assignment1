{
 "cells": [
  {
   "cell_type": "code",
   "execution_count": 2,
   "id": "303a8177-0e89-4038-ac59-db4d6104be46",
   "metadata": {},
   "outputs": [
    {
     "data": {
      "text/plain": [
       "(1, 2, 3)"
      ]
     },
     "execution_count": 2,
     "metadata": {},
     "output_type": "execute_result"
    }
   ],
   "source": [
    "#51.Create a tuple of five numbers and print only the first three.\n",
    "t =(1,2,3,4,5)\n",
    "t[0:3]\n"
   ]
  },
  {
   "cell_type": "code",
   "execution_count": 6,
   "id": "f4f466b7-4ca1-4eef-9024-b6cbc4b5a5da",
   "metadata": {},
   "outputs": [
    {
     "data": {
      "text/plain": [
       "5"
      ]
     },
     "execution_count": 6,
     "metadata": {},
     "output_type": "execute_result"
    }
   ],
   "source": [
    "#52.Print the last element of a tuple without using negative indexing.\n",
    "t = (1, 2, 3, 4, 5)\n",
    "t[len(t) - 1]\n"
   ]
  },
  {
   "cell_type": "code",
   "execution_count": 12,
   "id": "61f773e8-83dd-4f6c-9d17-ffbc757e9f36",
   "metadata": {},
   "outputs": [],
   "source": [
    "#53.Convert a tuple (1, 2, 3, 4, 5) into a list and add a new number\n",
    "t = (1, 2, 3, 4, 5)\n",
    "t = list(t)\n",
    "t.append(6)"
   ]
  },
  {
   "cell_type": "code",
   "execution_count": 13,
   "id": "06b9bbee-f72b-4f2c-80fa-4df965897534",
   "metadata": {},
   "outputs": [
    {
     "data": {
      "text/plain": [
       "[1, 2, 3, 4, 5, 6]"
      ]
     },
     "execution_count": 13,
     "metadata": {},
     "output_type": "execute_result"
    }
   ],
   "source": [
    "t"
   ]
  },
  {
   "cell_type": "code",
   "execution_count": 15,
   "id": "9c24a731-b719-43cf-b3aa-c7e7ddc49b3c",
   "metadata": {},
   "outputs": [
    {
     "ename": "AttributeError",
     "evalue": "'tuple' object has no attribute 'remove'",
     "output_type": "error",
     "traceback": [
      "\u001b[1;31m---------------------------------------------------------------------------\u001b[0m",
      "\u001b[1;31mAttributeError\u001b[0m                            Traceback (most recent call last)",
      "Cell \u001b[1;32mIn[15], line 4\u001b[0m\n\u001b[0;32m      1\u001b[0m \u001b[38;5;66;03m#54.Try deleting an element from a tuple and observe the error.\u001b[39;00m\n\u001b[0;32m      3\u001b[0m t \u001b[38;5;241m=\u001b[39m (\u001b[38;5;241m1\u001b[39m, \u001b[38;5;241m2\u001b[39m, \u001b[38;5;241m3\u001b[39m, \u001b[38;5;241m4\u001b[39m, \u001b[38;5;241m5\u001b[39m)\n\u001b[1;32m----> 4\u001b[0m t\u001b[38;5;241m.\u001b[39mremove()\n",
      "\u001b[1;31mAttributeError\u001b[0m: 'tuple' object has no attribute 'remove'"
     ]
    }
   ],
   "source": [
    "#54.Try deleting an element from a tuple and observe the error.\n",
    "\n",
    "t = (1, 2, 3, 4, 5)\n",
    "t.remove()\n"
   ]
  },
  {
   "cell_type": "code",
   "execution_count": 22,
   "id": "012cbfdd-802f-422a-ac06-e212102f00ca",
   "metadata": {},
   "outputs": [
    {
     "name": "stdout",
     "output_type": "stream",
     "text": [
      "3\n"
     ]
    }
   ],
   "source": [
    "#55.Extract the middle element from a tuple with an odd number of elements\n",
    "t = (1, 2, 3, 4, 5)\n",
    "middle= len(t) // 2\n",
    "print(t[middle])"
   ]
  },
  {
   "cell_type": "code",
   "execution_count": 23,
   "id": "06a15474-b5d6-4b54-bde6-335ffcfee3b8",
   "metadata": {},
   "outputs": [
    {
     "data": {
      "text/plain": [
       "False"
      ]
     },
     "execution_count": 23,
     "metadata": {},
     "output_type": "execute_result"
    }
   ],
   "source": [
    "#56.Check if two tuples (1, 2, 3) and (3, 2, 1) are the same.\n",
    "t =(1,2,3)\n",
    "t1 =(3,2,1)\n",
    "t == t1\n"
   ]
  },
  {
   "cell_type": "code",
   "execution_count": 27,
   "id": "7fd981af-34fd-4c9e-af80-bab6e0d66156",
   "metadata": {},
   "outputs": [
    {
     "data": {
      "text/plain": [
       "4"
      ]
     },
     "execution_count": 27,
     "metadata": {},
     "output_type": "execute_result"
    }
   ],
   "source": [
    "#57.Create a nested tuple and print an inner element.\n",
    "t = (1,2,(3,4),5)\n",
    "t[2][1]\n",
    "\n"
   ]
  },
  {
   "cell_type": "code",
   "execution_count": 31,
   "id": "6021d6ec-bbaa-46d4-9867-b18da92a2d14",
   "metadata": {},
   "outputs": [],
   "source": [
    "#58.Merge three tuples into one.\n",
    "t1=(1,2,3)\n",
    "t2=(4,5,6)\n",
    "t3=(7,8,9)\n",
    "t4 = t1+t2+t3\n"
   ]
  },
  {
   "cell_type": "code",
   "execution_count": 32,
   "id": "c3fbf181-7e94-4f3a-b38b-7644f3e21724",
   "metadata": {},
   "outputs": [
    {
     "data": {
      "text/plain": [
       "(1, 2, 3, 4, 5, 6, 7, 8, 9)"
      ]
     },
     "execution_count": 32,
     "metadata": {},
     "output_type": "execute_result"
    }
   ],
   "source": [
    "t4"
   ]
  },
  {
   "cell_type": "code",
   "execution_count": 34,
   "id": "c80d6ad5-2f27-4541-8ec6-97002bf1ffd0",
   "metadata": {},
   "outputs": [
    {
     "data": {
      "text/plain": [
       "2"
      ]
     },
     "execution_count": 34,
     "metadata": {},
     "output_type": "execute_result"
    }
   ],
   "source": [
    "#59.Find the index of 5 in the tuple (1, 3, 5, 7, 9).\n",
    "t = (1,3,5,7,9)\n",
    "t.index(5)"
   ]
  },
  {
   "cell_type": "code",
   "execution_count": 35,
   "id": "94183075-6ca5-4b12-88ef-63f4400b0bd2",
   "metadata": {},
   "outputs": [
    {
     "name": "stdout",
     "output_type": "stream",
     "text": [
      "1\n",
      "2\n",
      "3\n"
     ]
    }
   ],
   "source": [
    "#60.Unpack a tuple into separate variables.\n",
    "t = (1,2,3)\n",
    "a, b, c = t\n",
    "print(a)\n",
    "print(b)\n",
    "print(c)\n"
   ]
  },
  {
   "cell_type": "code",
   "execution_count": null,
   "id": "eafcc1a3-9d9a-4d22-afcb-7fbec47b8698",
   "metadata": {},
   "outputs": [],
   "source": []
  }
 ],
 "metadata": {
  "kernelspec": {
   "display_name": "Python [conda env:base] *",
   "language": "python",
   "name": "conda-base-py"
  },
  "language_info": {
   "codemirror_mode": {
    "name": "ipython",
    "version": 3
   },
   "file_extension": ".py",
   "mimetype": "text/x-python",
   "name": "python",
   "nbconvert_exporter": "python",
   "pygments_lexer": "ipython3",
   "version": "3.13.5"
  }
 },
 "nbformat": 4,
 "nbformat_minor": 5
}
