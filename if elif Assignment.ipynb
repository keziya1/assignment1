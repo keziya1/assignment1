{
 "cells": [
  {
   "cell_type": "code",
   "execution_count": 1,
   "id": "49084064-2716-4faf-aefd-56e1e09f9a86",
   "metadata": {},
   "outputs": [
    {
     "name": "stdin",
     "output_type": "stream",
     "text": [
      "Enter a number:  6\n"
     ]
    },
    {
     "name": "stdout",
     "output_type": "stream",
     "text": [
      "Even number: 6\n"
     ]
    }
   ],
   "source": [
    "\n",
    "#1. Write a program that takes a number as input and prints whether it is even or odd.\n",
    "n = int(input(\"Enter a number: \"))\n",
    "if n % 2 == 0:\n",
    "    print(\"Even number:\", n)\n",
    "else:\n",
    "    print(\"Odd number:\", n)\n"
   ]
  },
  {
   "cell_type": "code",
   "execution_count": 2,
   "id": "735a9c86-1245-4f1a-a8d7-380969f4c3ad",
   "metadata": {},
   "outputs": [
    {
     "name": "stdin",
     "output_type": "stream",
     "text": [
      "enter a number: 5\n"
     ]
    },
    {
     "name": "stdout",
     "output_type": "stream",
     "text": [
      "positive number 5\n"
     ]
    }
   ],
   "source": [
    "#2. Positive, Negative, or Zero\n",
    "\n",
    "num = int(input(\"enter a number:\"))\n",
    "if num >0:\n",
    "    print(\"positive number\",num)\n",
    "elif num  < 0:\n",
    "    print(\"negative number\",num)\n",
    "else:\n",
    "    print(\"zero\")\n"
   ]
  },
  {
   "cell_type": "code",
   "execution_count": 4,
   "id": "faaa18dd-4041-4f3c-b221-14704d589a67",
   "metadata": {},
   "outputs": [
    {
     "name": "stdin",
     "output_type": "stream",
     "text": [
      "enter person age: 19\n"
     ]
    },
    {
     "name": "stdout",
     "output_type": "stream",
     "text": [
      "eligible for vote 19\n"
     ]
    }
   ],
   "source": [
    "#3. Ask the user for their age and print whether they are eligible to vote (18 or older).\n",
    "age=int(input(\"enter person age:\"))\n",
    "if age>=18:\n",
    "    print(\"eligible for vote\",age)\n",
    "else:\n",
    "    print(\"not eligible for vote\",age)\n"
   ]
  },
  {
   "cell_type": "code",
   "execution_count": 5,
   "id": "21115f99-eda2-49f6-996a-8c39268f2134",
   "metadata": {},
   "outputs": [
    {
     "name": "stdin",
     "output_type": "stream",
     "text": [
      "enter a value: 10\n",
      "enter b value: 15\n"
     ]
    },
    {
     "name": "stdout",
     "output_type": "stream",
     "text": [
      "b is largest number 15\n"
     ]
    }
   ],
   "source": [
    "#4. Write a program to find the larger of two numbers entered by the user.\n",
    "a = int(input(\"enter a value:\"))\n",
    "b = int(input(\"enter b value:\"))\n",
    "if (a>b):\n",
    "    print(\"a is largest number\",a)\n",
    "else:\n",
    "    print(\"b is largest number\",b)"
   ]
  },
  {
   "cell_type": "code",
   "execution_count": 9,
   "id": "67ff43c9-a16d-448e-937f-494f543e36b3",
   "metadata": {},
   "outputs": [
    {
     "name": "stdin",
     "output_type": "stream",
     "text": [
      "enter a mark: 88\n"
     ]
    },
    {
     "name": "stdout",
     "output_type": "stream",
     "text": [
      "excellent 88\n"
     ]
    }
   ],
   "source": [
    "#5. Ask the user to enter a mark (0–100). Print:\n",
    "\n",
    "#\"Fail\" if below 40\n",
    "\n",
    "#\"Pass\" if 40–59\n",
    "\n",
    "#\"Good\" if 60–79\n",
    "\n",
    "#\"Excellent\" if 80–100\n",
    "\n",
    "#\"Invalid mark\" otherwise\n",
    "mark = int(input(\"enter a mark:\"))\n",
    "if mark >= 80:\n",
    "    print(\"excellent\",mark)\n",
    "elif mark < 80:\n",
    "    print(\"good\",mark)\n",
    "elif mark < 60:\n",
    "    print(\"pass\",mark)\n",
    "elif mark < 40:\n",
    "    print(\"fail\",mark)\n",
    "else:\n",
    "    print(\"invalid mark\")\n"
   ]
  },
  {
   "cell_type": "code",
   "execution_count": 8,
   "id": "d25f4dad-9eaf-484a-ada1-96c9a4d890f5",
   "metadata": {},
   "outputs": [
    {
     "name": "stdin",
     "output_type": "stream",
     "text": [
      "Enter a mark (0–100):  88\n"
     ]
    },
    {
     "name": "stdout",
     "output_type": "stream",
     "text": [
      "Excellent\n"
     ]
    }
   ],
   "source": [
    "mark = int(input(\"Enter a mark (0–100): \"))\n",
    "\n",
    "if 0 <= mark <= 100:\n",
    "    if mark < 40:\n",
    "        print(\"Fail\")        \n",
    "    elif mark < 60:\n",
    "        print(\"Pass\")        \n",
    "    elif mark < 80:\n",
    "        print(\"Good\")        \n",
    "    else:\n",
    "        print(\"Excellent\")   \n",
    "else:\n",
    "    print(\"Invalid mark\")    \n"
   ]
  },
  {
   "cell_type": "code",
   "execution_count": 13,
   "id": "805f628f-d07f-4d86-a1dd-269f4d42b285",
   "metadata": {},
   "outputs": [
    {
     "name": "stdin",
     "output_type": "stream",
     "text": [
      "enter a year: 2024\n"
     ]
    },
    {
     "name": "stdout",
     "output_type": "stream",
     "text": [
      "leap year\n"
     ]
    }
   ],
   "source": [
    "#6. Ask the user to enter a year and check if it's a leap year or not.\n",
    "year = int(input(\"enter a year:\"))\n",
    "if year%4==0:\n",
    "    print(\"leap year\")\n",
    "else:\n",
    "    print(\"not leap year\")"
   ]
  },
  {
   "cell_type": "code",
   "execution_count": 16,
   "id": "5fd85b9c-55bb-4216-9639-eeb779a902bf",
   "metadata": {},
   "outputs": [
    {
     "name": "stdin",
     "output_type": "stream",
     "text": [
      "enter a password: OpenAI123\n"
     ]
    },
    {
     "name": "stdout",
     "output_type": "stream",
     "text": [
      "Access granted\n"
     ]
    }
   ],
   "source": [
    "#7. Ask the user to enter a password and check if it matches \"OpenAI123\".\n",
    "password = input(\"enter a password:\")\n",
    "if password == \"OpenAI123\":\n",
    "    print(\"Access granted\")\n",
    "else:\n",
    "    print(\"incorrect password\")"
   ]
  },
  {
   "cell_type": "code",
   "execution_count": 19,
   "id": "a03ddf37-90c6-4b0a-b119-a591af7935b1",
   "metadata": {},
   "outputs": [
    {
     "name": "stdout",
     "output_type": "stream",
     "text": [
      "Buss\n"
     ]
    }
   ],
   "source": [
    "#8. Write a program that checks:\n",
    "\n",
    "#If a number is divisible by both 3 and 5 → print \"FizzBuzz\"\n",
    "\n",
    "#If only divisible by 3 → print \"Fizz\"\n",
    "\n",
    "#If only divisible by 5 → print \"Buzz\"\n",
    "\n",
    "#Otherwise → print the number\n",
    "n = 20\n",
    "if n % 3==0 and n% 5==0:\n",
    "    print(\"FizzBuss\")\n",
    "elif n%3==0:\n",
    "    print(\"Fizz\")\n",
    "elif n%5==0:\n",
    "    print(\"Buss\")\n",
    "else:\n",
    "    print(\"number\",n)\n",
    "    \n",
    "\n"
   ]
  },
  {
   "cell_type": "code",
   "execution_count": 20,
   "id": "15708684-2599-4c3a-b450-9c2c27551c03",
   "metadata": {},
   "outputs": [
    {
     "name": "stdin",
     "output_type": "stream",
     "text": [
      "enter a value: 7\n",
      "enter b value: 7\n",
      "enter c value: 7\n"
     ]
    },
    {
     "name": "stdout",
     "output_type": "stream",
     "text": [
      "equilaterals\n"
     ]
    }
   ],
   "source": [
    "#9. Take 3 sides of a triangle as input and determine whether it’s:\n",
    "\n",
    "#Equilateral (all sides equal)\n",
    "\n",
    "#Isosceles (two sides equal)\n",
    "\n",
    "#Scalene (all sides different)\n",
    "\n",
    "a = int(input(\"enter a value:\"))\n",
    "b = int(input(\"enter b value:\"))\n",
    "c = int(input(\"enter c value:\"))\n",
    "if a == b == c:\n",
    "    print(\"equilaterals\")\n",
    "elif a==b or b==c or c==a:\n",
    "      print(\"isoscales\")\n",
    "else:\n",
    "    print(\"scalene\")\n",
    "    \n",
    "     \n",
    "\n"
   ]
  },
  {
   "cell_type": "code",
   "execution_count": 22,
   "id": "481cea83-c33a-4223-9de0-549745bfb6bf",
   "metadata": {},
   "outputs": [
    {
     "name": "stdin",
     "output_type": "stream",
     "text": [
      "enter a hour (0-23): 18\n"
     ]
    },
    {
     "name": "stdout",
     "output_type": "stream",
     "text": [
      "good evening\n"
     ]
    }
   ],
   "source": [
    "#10. Ask the user to enter the current hour (0–23), and display:\n",
    "\n",
    "#\"Good Morning\" (5–11)\n",
    "\n",
    "#\"Good Afternoon\" (12–16)\n",
    "\n",
    "#\"Good Evening\" (17–20)\n",
    "\n",
    "#\"Good Night\" (21–4)\n",
    "\n",
    "hour = int(input(\"enter a hour (0-23):\"))\n",
    "if hour<=11:\n",
    "    print(\"good morning\")\n",
    "elif hour <=16:\n",
    "    print(\"good afternoon\")\n",
    "elif hour <= 20:\n",
    "    print(\"good evening\")\n",
    "else:\n",
    "    print(\"good night\")\n",
    "           \n",
    "                 \n",
    "                 "
   ]
  },
  {
   "cell_type": "code",
   "execution_count": null,
   "id": "8076fdef-a387-4cf2-b50c-56de907abf4c",
   "metadata": {},
   "outputs": [],
   "source": [
    "hour = int(input(\"Enter the hour (0–23): \"))\n",
    "if 5 <= hour <= 11:\n",
    "    print(\"Good Morning\")\n",
    "elif 12 <= hour <= 16:\n",
    "    print(\"Good Afternoon\")\n",
    "elif 17 <= hour <= 20:\n",
    "    print(\"Good Evening\")\n",
    "else:\n",
    "    print(\"Good Night\")\n"
   ]
  },
  {
   "cell_type": "code",
   "execution_count": null,
   "id": "3a280502-185b-4bc7-a3b5-1541a0a97c6e",
   "metadata": {},
   "outputs": [],
   "source": []
  }
 ],
 "metadata": {
  "kernelspec": {
   "display_name": "Python [conda env:base] *",
   "language": "python",
   "name": "conda-base-py"
  },
  "language_info": {
   "codemirror_mode": {
    "name": "ipython",
    "version": 3
   },
   "file_extension": ".py",
   "mimetype": "text/x-python",
   "name": "python",
   "nbconvert_exporter": "python",
   "pygments_lexer": "ipython3",
   "version": "3.13.5"
  }
 },
 "nbformat": 4,
 "nbformat_minor": 5
}
